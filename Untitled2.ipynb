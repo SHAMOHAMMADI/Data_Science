{
 "cells": [
  {
   "cell_type": "code",
   "execution_count": 1,
   "id": "eb60745c-3741-42e1-80fd-ef24fd50e365",
   "metadata": {},
   "outputs": [
    {
     "name": "stdout",
     "output_type": "stream",
     "text": [
      " Volume in drive D has no label.\n",
      " Volume Serial Number is FCE3-1838\n",
      "\n",
      " Directory of D:\\PythonEx\n",
      "\n",
      "02/20/2025  01:56 PM    <DIR>          .\n",
      "02/20/2025  01:56 PM    <DIR>          .ipynb_checkpoints\n",
      "01/09/2025  04:18 PM    <DIR>          .venv\n",
      "01/21/2025  03:38 PM    <DIR>          __pycache__\n",
      "01/09/2025  05:16 PM           318,439 FirstJupyter.ipynb\n",
      "01/30/2025  03:54 PM    <DIR>          image\n",
      "02/19/2025  04:46 PM            10,697 index.py\n",
      "01/25/2025  12:49 PM                62 new.txt\n",
      "02/19/2025  04:19 PM    <DIR>          node_modules\n",
      "02/19/2025  04:19 PM                49 package.json\n",
      "02/19/2025  04:45 PM               907 package-lock.json\n",
      "02/19/2025  04:44 PM            24,107 Untitled.ipynb\n",
      "02/19/2025  05:53 PM            23,257 Untitled1.ipynb\n",
      "02/20/2025  01:56 PM               337 Untitled2.ipynb\n",
      "01/21/2025  03:51 PM               189 validate.py\n",
      "               9 File(s)        378,044 bytes\n",
      "               6 Dir(s)   5,384,249,344 bytes free\n"
     ]
    }
   ],
   "source": [
    "ls"
   ]
  },
  {
   "cell_type": "code",
   "execution_count": 2,
   "id": "d30b85da-e2aa-476d-9144-2691ab34fdfa",
   "metadata": {},
   "outputs": [],
   "source": [
    "import pandas as pd\n",
    "import numpy as np\n",
    "import matplotlib.pyplot as mat"
   ]
  },
  {
   "cell_type": "code",
   "execution_count": 4,
   "id": "4ac0afab-8d68-475f-a121-776fbf36aa4a",
   "metadata": {},
   "outputs": [],
   "source": [
    "df = pd.read_csv(\"new.txt\")"
   ]
  },
  {
   "cell_type": "code",
   "execution_count": 5,
   "id": "b48eb4e1-76ef-4336-9ce3-6bfdec517762",
   "metadata": {},
   "outputs": [
    {
     "data": {
      "text/html": [
       "<div>\n",
       "<style scoped>\n",
       "    .dataframe tbody tr th:only-of-type {\n",
       "        vertical-align: middle;\n",
       "    }\n",
       "\n",
       "    .dataframe tbody tr th {\n",
       "        vertical-align: top;\n",
       "    }\n",
       "\n",
       "    .dataframe thead th {\n",
       "        text-align: right;\n",
       "    }\n",
       "</style>\n",
       "<table border=\"1\" class=\"dataframe\">\n",
       "  <thead>\n",
       "    <tr style=\"text-align: right;\">\n",
       "      <th></th>\n",
       "      <th>firstMessagesecondMessagethirdMessage fourMessage fivthMessage</th>\n",
       "    </tr>\n",
       "  </thead>\n",
       "  <tbody>\n",
       "  </tbody>\n",
       "</table>\n",
       "</div>"
      ],
      "text/plain": [
       "Empty DataFrame\n",
       "Columns: [firstMessagesecondMessagethirdMessage fourMessage fivthMessage]\n",
       "Index: []"
      ]
     },
     "execution_count": 5,
     "metadata": {},
     "output_type": "execute_result"
    }
   ],
   "source": [
    "df"
   ]
  },
  {
   "cell_type": "code",
   "execution_count": 6,
   "id": "143d7fa2-edf4-48ff-982c-ea7c3be1ac4b",
   "metadata": {},
   "outputs": [
    {
     "name": "stdout",
     "output_type": "stream",
     "text": [
      " Volume in drive D has no label.\n",
      " Volume Serial Number is FCE3-1838\n",
      "\n",
      " Directory of D:\\PythonEx\n",
      "\n",
      "02/20/2025  02:25 PM    <DIR>          .\n",
      "02/20/2025  01:56 PM    <DIR>          .ipynb_checkpoints\n",
      "01/09/2025  04:18 PM    <DIR>          .venv\n",
      "01/21/2025  03:38 PM    <DIR>          __pycache__\n",
      "02/19/2025  05:42 PM            41,417 banklist.csv\n",
      "01/09/2025  05:16 PM           318,439 FirstJupyter.ipynb\n",
      "01/30/2025  03:54 PM    <DIR>          image\n",
      "02/19/2025  04:46 PM            10,697 index.py\n",
      "01/25/2025  12:49 PM                62 new.txt\n",
      "02/19/2025  04:19 PM    <DIR>          node_modules\n",
      "02/19/2025  04:19 PM                49 package.json\n",
      "02/19/2025  04:45 PM               907 package-lock.json\n",
      "02/19/2025  04:44 PM            24,107 Untitled.ipynb\n",
      "02/19/2025  05:53 PM            23,257 Untitled1.ipynb\n",
      "02/20/2025  02:25 PM             3,807 Untitled2.ipynb\n",
      "01/21/2025  03:51 PM               189 validate.py\n",
      "              10 File(s)        422,931 bytes\n",
      "               6 Dir(s)   5,384,200,192 bytes free\n"
     ]
    }
   ],
   "source": [
    "ls"
   ]
  },
  {
   "cell_type": "code",
   "execution_count": 7,
   "id": "53020383-f271-4907-b5ca-144fb8de77db",
   "metadata": {},
   "outputs": [],
   "source": [
    "df=pd.read_csv(\"banklist.csv\")"
   ]
  },
  {
   "cell_type": "code",
   "execution_count": 8,
   "id": "6a00cba2-156d-4044-ac42-c2266c442def",
   "metadata": {},
   "outputs": [
    {
     "data": {
      "text/html": [
       "<div>\n",
       "<style scoped>\n",
       "    .dataframe tbody tr th:only-of-type {\n",
       "        vertical-align: middle;\n",
       "    }\n",
       "\n",
       "    .dataframe tbody tr th {\n",
       "        vertical-align: top;\n",
       "    }\n",
       "\n",
       "    .dataframe thead th {\n",
       "        text-align: right;\n",
       "    }\n",
       "</style>\n",
       "<table border=\"1\" class=\"dataframe\">\n",
       "  <thead>\n",
       "    <tr style=\"text-align: right;\">\n",
       "      <th></th>\n",
       "      <th>Bank Name</th>\n",
       "      <th>City</th>\n",
       "      <th>ST</th>\n",
       "      <th>CERT</th>\n",
       "      <th>Acquiring Institution</th>\n",
       "      <th>Closing Date</th>\n",
       "      <th>Updated Date</th>\n",
       "    </tr>\n",
       "  </thead>\n",
       "  <tbody>\n",
       "    <tr>\n",
       "      <th>0</th>\n",
       "      <td>Banks of Wisconsin d/b/a Bank of Kenosha</td>\n",
       "      <td>Kenosha</td>\n",
       "      <td>WI</td>\n",
       "      <td>35386</td>\n",
       "      <td>North Shore Bank, FSB</td>\n",
       "      <td>31-May-13</td>\n",
       "      <td>31-May-13</td>\n",
       "    </tr>\n",
       "    <tr>\n",
       "      <th>1</th>\n",
       "      <td>Central Arizona Bank</td>\n",
       "      <td>Scottsdale</td>\n",
       "      <td>AZ</td>\n",
       "      <td>34527</td>\n",
       "      <td>Western State Bank</td>\n",
       "      <td>14-May-13</td>\n",
       "      <td>20-May-13</td>\n",
       "    </tr>\n",
       "    <tr>\n",
       "      <th>2</th>\n",
       "      <td>Sunrise Bank</td>\n",
       "      <td>Valdosta</td>\n",
       "      <td>GA</td>\n",
       "      <td>58185</td>\n",
       "      <td>Synovus Bank</td>\n",
       "      <td>10-May-13</td>\n",
       "      <td>21-May-13</td>\n",
       "    </tr>\n",
       "    <tr>\n",
       "      <th>3</th>\n",
       "      <td>Pisgah Community Bank</td>\n",
       "      <td>Asheville</td>\n",
       "      <td>NC</td>\n",
       "      <td>58701</td>\n",
       "      <td>Capital Bank, N.A.</td>\n",
       "      <td>10-May-13</td>\n",
       "      <td>14-May-13</td>\n",
       "    </tr>\n",
       "    <tr>\n",
       "      <th>4</th>\n",
       "      <td>Douglas County Bank</td>\n",
       "      <td>Douglasville</td>\n",
       "      <td>GA</td>\n",
       "      <td>21649</td>\n",
       "      <td>Hamilton State Bank</td>\n",
       "      <td>26-Apr-13</td>\n",
       "      <td>16-May-13</td>\n",
       "    </tr>\n",
       "    <tr>\n",
       "      <th>...</th>\n",
       "      <td>...</td>\n",
       "      <td>...</td>\n",
       "      <td>...</td>\n",
       "      <td>...</td>\n",
       "      <td>...</td>\n",
       "      <td>...</td>\n",
       "      <td>...</td>\n",
       "    </tr>\n",
       "    <tr>\n",
       "      <th>501</th>\n",
       "      <td>Superior Bank, FSB</td>\n",
       "      <td>Hinsdale</td>\n",
       "      <td>IL</td>\n",
       "      <td>32646</td>\n",
       "      <td>Superior Federal, FSB</td>\n",
       "      <td>27-Jul-01</td>\n",
       "      <td>5-Jun-12</td>\n",
       "    </tr>\n",
       "    <tr>\n",
       "      <th>502</th>\n",
       "      <td>Malta National Bank</td>\n",
       "      <td>Malta</td>\n",
       "      <td>OH</td>\n",
       "      <td>6629</td>\n",
       "      <td>North Valley Bank</td>\n",
       "      <td>3-May-01</td>\n",
       "      <td>18-Nov-02</td>\n",
       "    </tr>\n",
       "    <tr>\n",
       "      <th>503</th>\n",
       "      <td>First Alliance Bank &amp; Trust Co.</td>\n",
       "      <td>Manchester</td>\n",
       "      <td>NH</td>\n",
       "      <td>34264</td>\n",
       "      <td>Southern New Hampshire Bank &amp; Trust</td>\n",
       "      <td>2-Feb-01</td>\n",
       "      <td>18-Feb-03</td>\n",
       "    </tr>\n",
       "    <tr>\n",
       "      <th>504</th>\n",
       "      <td>National State Bank of Metropolis</td>\n",
       "      <td>Metropolis</td>\n",
       "      <td>IL</td>\n",
       "      <td>3815</td>\n",
       "      <td>Banterra Bank of Marion</td>\n",
       "      <td>14-Dec-00</td>\n",
       "      <td>17-Mar-05</td>\n",
       "    </tr>\n",
       "    <tr>\n",
       "      <th>505</th>\n",
       "      <td>Bank of Honolulu</td>\n",
       "      <td>Honolulu</td>\n",
       "      <td>HI</td>\n",
       "      <td>21029</td>\n",
       "      <td>Bank of the Orient</td>\n",
       "      <td>13-Oct-00</td>\n",
       "      <td>17-Mar-05</td>\n",
       "    </tr>\n",
       "  </tbody>\n",
       "</table>\n",
       "<p>506 rows × 7 columns</p>\n",
       "</div>"
      ],
      "text/plain": [
       "                                    Bank Name          City  ST   CERT  \\\n",
       "0    Banks of Wisconsin d/b/a Bank of Kenosha       Kenosha  WI  35386   \n",
       "1                        Central Arizona Bank    Scottsdale  AZ  34527   \n",
       "2                                Sunrise Bank      Valdosta  GA  58185   \n",
       "3                       Pisgah Community Bank     Asheville  NC  58701   \n",
       "4                         Douglas County Bank  Douglasville  GA  21649   \n",
       "..                                        ...           ...  ..    ...   \n",
       "501                        Superior Bank, FSB      Hinsdale  IL  32646   \n",
       "502                       Malta National Bank         Malta  OH   6629   \n",
       "503           First Alliance Bank & Trust Co.    Manchester  NH  34264   \n",
       "504         National State Bank of Metropolis    Metropolis  IL   3815   \n",
       "505                          Bank of Honolulu      Honolulu  HI  21029   \n",
       "\n",
       "                   Acquiring Institution Closing Date Updated Date  \n",
       "0                  North Shore Bank, FSB    31-May-13    31-May-13  \n",
       "1                     Western State Bank    14-May-13    20-May-13  \n",
       "2                           Synovus Bank    10-May-13    21-May-13  \n",
       "3                     Capital Bank, N.A.    10-May-13    14-May-13  \n",
       "4                    Hamilton State Bank    26-Apr-13    16-May-13  \n",
       "..                                   ...          ...          ...  \n",
       "501                Superior Federal, FSB    27-Jul-01     5-Jun-12  \n",
       "502                    North Valley Bank     3-May-01    18-Nov-02  \n",
       "503  Southern New Hampshire Bank & Trust     2-Feb-01    18-Feb-03  \n",
       "504              Banterra Bank of Marion    14-Dec-00    17-Mar-05  \n",
       "505                   Bank of the Orient    13-Oct-00    17-Mar-05  \n",
       "\n",
       "[506 rows x 7 columns]"
      ]
     },
     "execution_count": 8,
     "metadata": {},
     "output_type": "execute_result"
    }
   ],
   "source": [
    "df"
   ]
  },
  {
   "cell_type": "code",
   "execution_count": 9,
   "id": "9bbe8b0f-8ecf-49c3-9041-69a15f063278",
   "metadata": {},
   "outputs": [
    {
     "data": {
      "text/plain": [
       "array([['Banks of Wisconsin d/b/a Bank of Kenosha', 'Kenosha', 'WI', ...,\n",
       "        'North Shore Bank, FSB', '31-May-13', '31-May-13'],\n",
       "       ['Central Arizona Bank', 'Scottsdale', 'AZ', ...,\n",
       "        'Western State Bank', '14-May-13', '20-May-13'],\n",
       "       ['Sunrise Bank', 'Valdosta', 'GA', ..., 'Synovus Bank',\n",
       "        '10-May-13', '21-May-13'],\n",
       "       ...,\n",
       "       ['First Alliance Bank & Trust Co.', 'Manchester', 'NH', ...,\n",
       "        'Southern New Hampshire Bank & Trust', '2-Feb-01', '18-Feb-03'],\n",
       "       ['National State Bank of Metropolis', 'Metropolis', 'IL', ...,\n",
       "        'Banterra Bank of Marion', '14-Dec-00', '17-Mar-05'],\n",
       "       ['Bank of Honolulu', 'Honolulu', 'HI', ..., 'Bank of the Orient',\n",
       "        '13-Oct-00', '17-Mar-05']], shape=(506, 7), dtype=object)"
      ]
     },
     "execution_count": 9,
     "metadata": {},
     "output_type": "execute_result"
    }
   ],
   "source": [
    "df.values"
   ]
  },
  {
   "cell_type": "code",
   "execution_count": 10,
   "id": "79dcc780-e7b2-4cbf-b24b-8622defeba6c",
   "metadata": {},
   "outputs": [
    {
     "data": {
      "text/html": [
       "<div>\n",
       "<style scoped>\n",
       "    .dataframe tbody tr th:only-of-type {\n",
       "        vertical-align: middle;\n",
       "    }\n",
       "\n",
       "    .dataframe tbody tr th {\n",
       "        vertical-align: top;\n",
       "    }\n",
       "\n",
       "    .dataframe thead th {\n",
       "        text-align: right;\n",
       "    }\n",
       "</style>\n",
       "<table border=\"1\" class=\"dataframe\">\n",
       "  <thead>\n",
       "    <tr style=\"text-align: right;\">\n",
       "      <th></th>\n",
       "      <th>CERT</th>\n",
       "    </tr>\n",
       "  </thead>\n",
       "  <tbody>\n",
       "    <tr>\n",
       "      <th>count</th>\n",
       "      <td>506.00000</td>\n",
       "    </tr>\n",
       "    <tr>\n",
       "      <th>mean</th>\n",
       "      <td>31948.91502</td>\n",
       "    </tr>\n",
       "    <tr>\n",
       "      <th>std</th>\n",
       "      <td>16367.55409</td>\n",
       "    </tr>\n",
       "    <tr>\n",
       "      <th>min</th>\n",
       "      <td>151.00000</td>\n",
       "    </tr>\n",
       "    <tr>\n",
       "      <th>25%</th>\n",
       "      <td>21222.75000</td>\n",
       "    </tr>\n",
       "    <tr>\n",
       "      <th>50%</th>\n",
       "      <td>32176.00000</td>\n",
       "    </tr>\n",
       "    <tr>\n",
       "      <th>75%</th>\n",
       "      <td>35385.25000</td>\n",
       "    </tr>\n",
       "    <tr>\n",
       "      <th>max</th>\n",
       "      <td>58701.00000</td>\n",
       "    </tr>\n",
       "  </tbody>\n",
       "</table>\n",
       "</div>"
      ],
      "text/plain": [
       "              CERT\n",
       "count    506.00000\n",
       "mean   31948.91502\n",
       "std    16367.55409\n",
       "min      151.00000\n",
       "25%    21222.75000\n",
       "50%    32176.00000\n",
       "75%    35385.25000\n",
       "max    58701.00000"
      ]
     },
     "execution_count": 10,
     "metadata": {},
     "output_type": "execute_result"
    }
   ],
   "source": [
    "df.describe()"
   ]
  },
  {
   "cell_type": "code",
   "execution_count": 11,
   "id": "645f65ba-1234-4adf-a663-a83073f50e38",
   "metadata": {},
   "outputs": [
    {
     "ename": "SyntaxError",
     "evalue": "invalid syntax (1909692443.py, line 1)",
     "output_type": "error",
     "traceback": [
      "\u001b[1;36m  Cell \u001b[1;32mIn[11], line 1\u001b[1;36m\u001b[0m\n\u001b[1;33m    df.loc(0:5)\u001b[0m\n\u001b[1;37m            ^\u001b[0m\n\u001b[1;31mSyntaxError\u001b[0m\u001b[1;31m:\u001b[0m invalid syntax\n"
     ]
    }
   ],
   "source": [
    "df.loc(0:5)"
   ]
  },
  {
   "cell_type": "code",
   "execution_count": 12,
   "id": "629d037f-7f5c-4830-ab2a-81d187f0768f",
   "metadata": {},
   "outputs": [
    {
     "data": {
      "text/html": [
       "<div>\n",
       "<style scoped>\n",
       "    .dataframe tbody tr th:only-of-type {\n",
       "        vertical-align: middle;\n",
       "    }\n",
       "\n",
       "    .dataframe tbody tr th {\n",
       "        vertical-align: top;\n",
       "    }\n",
       "\n",
       "    .dataframe thead th {\n",
       "        text-align: right;\n",
       "    }\n",
       "</style>\n",
       "<table border=\"1\" class=\"dataframe\">\n",
       "  <thead>\n",
       "    <tr style=\"text-align: right;\">\n",
       "      <th></th>\n",
       "      <th>Bank Name</th>\n",
       "      <th>City</th>\n",
       "      <th>ST</th>\n",
       "      <th>CERT</th>\n",
       "      <th>Acquiring Institution</th>\n",
       "      <th>Closing Date</th>\n",
       "      <th>Updated Date</th>\n",
       "    </tr>\n",
       "  </thead>\n",
       "  <tbody>\n",
       "    <tr>\n",
       "      <th>0</th>\n",
       "      <td>Banks of Wisconsin d/b/a Bank of Kenosha</td>\n",
       "      <td>Kenosha</td>\n",
       "      <td>WI</td>\n",
       "      <td>35386</td>\n",
       "      <td>North Shore Bank, FSB</td>\n",
       "      <td>31-May-13</td>\n",
       "      <td>31-May-13</td>\n",
       "    </tr>\n",
       "    <tr>\n",
       "      <th>1</th>\n",
       "      <td>Central Arizona Bank</td>\n",
       "      <td>Scottsdale</td>\n",
       "      <td>AZ</td>\n",
       "      <td>34527</td>\n",
       "      <td>Western State Bank</td>\n",
       "      <td>14-May-13</td>\n",
       "      <td>20-May-13</td>\n",
       "    </tr>\n",
       "    <tr>\n",
       "      <th>2</th>\n",
       "      <td>Sunrise Bank</td>\n",
       "      <td>Valdosta</td>\n",
       "      <td>GA</td>\n",
       "      <td>58185</td>\n",
       "      <td>Synovus Bank</td>\n",
       "      <td>10-May-13</td>\n",
       "      <td>21-May-13</td>\n",
       "    </tr>\n",
       "    <tr>\n",
       "      <th>3</th>\n",
       "      <td>Pisgah Community Bank</td>\n",
       "      <td>Asheville</td>\n",
       "      <td>NC</td>\n",
       "      <td>58701</td>\n",
       "      <td>Capital Bank, N.A.</td>\n",
       "      <td>10-May-13</td>\n",
       "      <td>14-May-13</td>\n",
       "    </tr>\n",
       "    <tr>\n",
       "      <th>4</th>\n",
       "      <td>Douglas County Bank</td>\n",
       "      <td>Douglasville</td>\n",
       "      <td>GA</td>\n",
       "      <td>21649</td>\n",
       "      <td>Hamilton State Bank</td>\n",
       "      <td>26-Apr-13</td>\n",
       "      <td>16-May-13</td>\n",
       "    </tr>\n",
       "  </tbody>\n",
       "</table>\n",
       "</div>"
      ],
      "text/plain": [
       "                                  Bank Name          City  ST   CERT  \\\n",
       "0  Banks of Wisconsin d/b/a Bank of Kenosha       Kenosha  WI  35386   \n",
       "1                      Central Arizona Bank    Scottsdale  AZ  34527   \n",
       "2                              Sunrise Bank      Valdosta  GA  58185   \n",
       "3                     Pisgah Community Bank     Asheville  NC  58701   \n",
       "4                       Douglas County Bank  Douglasville  GA  21649   \n",
       "\n",
       "   Acquiring Institution Closing Date Updated Date  \n",
       "0  North Shore Bank, FSB    31-May-13    31-May-13  \n",
       "1     Western State Bank    14-May-13    20-May-13  \n",
       "2           Synovus Bank    10-May-13    21-May-13  \n",
       "3     Capital Bank, N.A.    10-May-13    14-May-13  \n",
       "4    Hamilton State Bank    26-Apr-13    16-May-13  "
      ]
     },
     "execution_count": 12,
     "metadata": {},
     "output_type": "execute_result"
    }
   ],
   "source": [
    "df.loc[0:4]"
   ]
  },
  {
   "cell_type": "code",
   "execution_count": 13,
   "id": "21a9c6f6-fdd2-4120-b54d-a5b5506eb602",
   "metadata": {},
   "outputs": [],
   "source": [
    "col4 = df.loc[0:4]"
   ]
  },
  {
   "cell_type": "code",
   "execution_count": 14,
   "id": "8e4e78cf-c064-4900-b4c9-7f7b50501b92",
   "metadata": {},
   "outputs": [
    {
     "data": {
      "text/html": [
       "<div>\n",
       "<style scoped>\n",
       "    .dataframe tbody tr th:only-of-type {\n",
       "        vertical-align: middle;\n",
       "    }\n",
       "\n",
       "    .dataframe tbody tr th {\n",
       "        vertical-align: top;\n",
       "    }\n",
       "\n",
       "    .dataframe thead th {\n",
       "        text-align: right;\n",
       "    }\n",
       "</style>\n",
       "<table border=\"1\" class=\"dataframe\">\n",
       "  <thead>\n",
       "    <tr style=\"text-align: right;\">\n",
       "      <th></th>\n",
       "      <th>Bank Name</th>\n",
       "      <th>City</th>\n",
       "      <th>ST</th>\n",
       "      <th>CERT</th>\n",
       "      <th>Acquiring Institution</th>\n",
       "      <th>Closing Date</th>\n",
       "      <th>Updated Date</th>\n",
       "    </tr>\n",
       "  </thead>\n",
       "  <tbody>\n",
       "    <tr>\n",
       "      <th>0</th>\n",
       "      <td>Banks of Wisconsin d/b/a Bank of Kenosha</td>\n",
       "      <td>Kenosha</td>\n",
       "      <td>WI</td>\n",
       "      <td>35386</td>\n",
       "      <td>North Shore Bank, FSB</td>\n",
       "      <td>31-May-13</td>\n",
       "      <td>31-May-13</td>\n",
       "    </tr>\n",
       "    <tr>\n",
       "      <th>1</th>\n",
       "      <td>Central Arizona Bank</td>\n",
       "      <td>Scottsdale</td>\n",
       "      <td>AZ</td>\n",
       "      <td>34527</td>\n",
       "      <td>Western State Bank</td>\n",
       "      <td>14-May-13</td>\n",
       "      <td>20-May-13</td>\n",
       "    </tr>\n",
       "    <tr>\n",
       "      <th>2</th>\n",
       "      <td>Sunrise Bank</td>\n",
       "      <td>Valdosta</td>\n",
       "      <td>GA</td>\n",
       "      <td>58185</td>\n",
       "      <td>Synovus Bank</td>\n",
       "      <td>10-May-13</td>\n",
       "      <td>21-May-13</td>\n",
       "    </tr>\n",
       "    <tr>\n",
       "      <th>3</th>\n",
       "      <td>Pisgah Community Bank</td>\n",
       "      <td>Asheville</td>\n",
       "      <td>NC</td>\n",
       "      <td>58701</td>\n",
       "      <td>Capital Bank, N.A.</td>\n",
       "      <td>10-May-13</td>\n",
       "      <td>14-May-13</td>\n",
       "    </tr>\n",
       "    <tr>\n",
       "      <th>4</th>\n",
       "      <td>Douglas County Bank</td>\n",
       "      <td>Douglasville</td>\n",
       "      <td>GA</td>\n",
       "      <td>21649</td>\n",
       "      <td>Hamilton State Bank</td>\n",
       "      <td>26-Apr-13</td>\n",
       "      <td>16-May-13</td>\n",
       "    </tr>\n",
       "  </tbody>\n",
       "</table>\n",
       "</div>"
      ],
      "text/plain": [
       "                                  Bank Name          City  ST   CERT  \\\n",
       "0  Banks of Wisconsin d/b/a Bank of Kenosha       Kenosha  WI  35386   \n",
       "1                      Central Arizona Bank    Scottsdale  AZ  34527   \n",
       "2                              Sunrise Bank      Valdosta  GA  58185   \n",
       "3                     Pisgah Community Bank     Asheville  NC  58701   \n",
       "4                       Douglas County Bank  Douglasville  GA  21649   \n",
       "\n",
       "   Acquiring Institution Closing Date Updated Date  \n",
       "0  North Shore Bank, FSB    31-May-13    31-May-13  \n",
       "1     Western State Bank    14-May-13    20-May-13  \n",
       "2           Synovus Bank    10-May-13    21-May-13  \n",
       "3     Capital Bank, N.A.    10-May-13    14-May-13  \n",
       "4    Hamilton State Bank    26-Apr-13    16-May-13  "
      ]
     },
     "execution_count": 14,
     "metadata": {},
     "output_type": "execute_result"
    }
   ],
   "source": [
    "col4"
   ]
  },
  {
   "cell_type": "code",
   "execution_count": 15,
   "id": "2445af36-00bd-4896-ae96-60104b6268d8",
   "metadata": {},
   "outputs": [],
   "source": [
    "col4 = ['extracolumn']"
   ]
  },
  {
   "cell_type": "code",
   "execution_count": 17,
   "id": "640c9f2d-940d-4ee0-a891-b150239a3f82",
   "metadata": {},
   "outputs": [
    {
     "ename": "AttributeError",
     "evalue": "'DataFrame' object has no attribute 'dateFrame'",
     "output_type": "error",
     "traceback": [
      "\u001b[1;31m--------------------------------------------------------------------\u001b[0m",
      "\u001b[1;31mAttributeError\u001b[0m                     Traceback (most recent call last)",
      "\u001b[1;32m~\\AppData\\Local\\Temp\\ipykernel_31436\\3221960895.py\u001b[0m in \u001b[0;36m?\u001b[1;34m()\u001b[0m\n\u001b[1;32m----> 1\u001b[1;33m \u001b[0mdf1\u001b[0m \u001b[1;33m=\u001b[0m \u001b[0mdf\u001b[0m\u001b[1;33m.\u001b[0m\u001b[0mdateFrame\u001b[0m\u001b[1;33m(\u001b[0m\u001b[1;33m)\u001b[0m\u001b[1;33m\u001b[0m\u001b[1;33m\u001b[0m\u001b[0m\n\u001b[0m",
      "\u001b[1;32m~\\AppData\\Local\\Programs\\Python\\Python313\\Lib\\site-packages\\pandas\\core\\generic.py\u001b[0m in \u001b[0;36m?\u001b[1;34m(self, name)\u001b[0m\n\u001b[0;32m   6295\u001b[0m             \u001b[1;32mand\u001b[0m \u001b[0mname\u001b[0m \u001b[1;32mnot\u001b[0m \u001b[1;32min\u001b[0m \u001b[0mself\u001b[0m\u001b[1;33m.\u001b[0m\u001b[0m_accessors\u001b[0m\u001b[1;33m\u001b[0m\u001b[1;33m\u001b[0m\u001b[0m\n\u001b[0;32m   6296\u001b[0m             \u001b[1;32mand\u001b[0m \u001b[0mself\u001b[0m\u001b[1;33m.\u001b[0m\u001b[0m_info_axis\u001b[0m\u001b[1;33m.\u001b[0m\u001b[0m_can_hold_identifiers_and_holds_name\u001b[0m\u001b[1;33m(\u001b[0m\u001b[0mname\u001b[0m\u001b[1;33m)\u001b[0m\u001b[1;33m\u001b[0m\u001b[1;33m\u001b[0m\u001b[0m\n\u001b[0;32m   6297\u001b[0m         \u001b[1;33m)\u001b[0m\u001b[1;33m:\u001b[0m\u001b[1;33m\u001b[0m\u001b[1;33m\u001b[0m\u001b[0m\n\u001b[0;32m   6298\u001b[0m             \u001b[1;32mreturn\u001b[0m \u001b[0mself\u001b[0m\u001b[1;33m[\u001b[0m\u001b[0mname\u001b[0m\u001b[1;33m]\u001b[0m\u001b[1;33m\u001b[0m\u001b[1;33m\u001b[0m\u001b[0m\n\u001b[1;32m-> 6299\u001b[1;33m         \u001b[1;32mreturn\u001b[0m \u001b[0mobject\u001b[0m\u001b[1;33m.\u001b[0m\u001b[0m__getattribute__\u001b[0m\u001b[1;33m(\u001b[0m\u001b[0mself\u001b[0m\u001b[1;33m,\u001b[0m \u001b[0mname\u001b[0m\u001b[1;33m)\u001b[0m\u001b[1;33m\u001b[0m\u001b[1;33m\u001b[0m\u001b[0m\n\u001b[0m",
      "\u001b[1;31mAttributeError\u001b[0m: 'DataFrame' object has no attribute 'dateFrame'"
     ]
    }
   ],
   "source": [
    "df1 = df.dateFrame()"
   ]
  },
  {
   "cell_type": "code",
   "execution_count": 18,
   "id": "2cbf5e11-0e4c-4d6c-bac7-3666e70c8108",
   "metadata": {},
   "outputs": [],
   "source": [
    "df2 = pd.read_csv(\"banklist.csv\")"
   ]
  },
  {
   "cell_type": "code",
   "execution_count": 23,
   "id": "582c048e-d083-492a-84e5-d2bb984e1ab8",
   "metadata": {},
   "outputs": [],
   "source": [
    "df2editted = df2.loc[0:2]"
   ]
  },
  {
   "cell_type": "code",
   "execution_count": 24,
   "id": "8870bb9b-e69e-4ae4-9e3c-b23c01e515ab",
   "metadata": {},
   "outputs": [
    {
     "data": {
      "text/html": [
       "<div>\n",
       "<style scoped>\n",
       "    .dataframe tbody tr th:only-of-type {\n",
       "        vertical-align: middle;\n",
       "    }\n",
       "\n",
       "    .dataframe tbody tr th {\n",
       "        vertical-align: top;\n",
       "    }\n",
       "\n",
       "    .dataframe thead th {\n",
       "        text-align: right;\n",
       "    }\n",
       "</style>\n",
       "<table border=\"1\" class=\"dataframe\">\n",
       "  <thead>\n",
       "    <tr style=\"text-align: right;\">\n",
       "      <th></th>\n",
       "      <th>Bank Name</th>\n",
       "      <th>City</th>\n",
       "      <th>ST</th>\n",
       "      <th>CERT</th>\n",
       "      <th>Acquiring Institution</th>\n",
       "      <th>Closing Date</th>\n",
       "      <th>Updated Date</th>\n",
       "    </tr>\n",
       "  </thead>\n",
       "  <tbody>\n",
       "    <tr>\n",
       "      <th>0</th>\n",
       "      <td>Banks of Wisconsin d/b/a Bank of Kenosha</td>\n",
       "      <td>Kenosha</td>\n",
       "      <td>WI</td>\n",
       "      <td>35386</td>\n",
       "      <td>North Shore Bank, FSB</td>\n",
       "      <td>31-May-13</td>\n",
       "      <td>31-May-13</td>\n",
       "    </tr>\n",
       "    <tr>\n",
       "      <th>1</th>\n",
       "      <td>Central Arizona Bank</td>\n",
       "      <td>Scottsdale</td>\n",
       "      <td>AZ</td>\n",
       "      <td>34527</td>\n",
       "      <td>Western State Bank</td>\n",
       "      <td>14-May-13</td>\n",
       "      <td>20-May-13</td>\n",
       "    </tr>\n",
       "    <tr>\n",
       "      <th>2</th>\n",
       "      <td>Sunrise Bank</td>\n",
       "      <td>Valdosta</td>\n",
       "      <td>GA</td>\n",
       "      <td>58185</td>\n",
       "      <td>Synovus Bank</td>\n",
       "      <td>10-May-13</td>\n",
       "      <td>21-May-13</td>\n",
       "    </tr>\n",
       "  </tbody>\n",
       "</table>\n",
       "</div>"
      ],
      "text/plain": [
       "                                  Bank Name        City  ST   CERT  \\\n",
       "0  Banks of Wisconsin d/b/a Bank of Kenosha     Kenosha  WI  35386   \n",
       "1                      Central Arizona Bank  Scottsdale  AZ  34527   \n",
       "2                              Sunrise Bank    Valdosta  GA  58185   \n",
       "\n",
       "   Acquiring Institution Closing Date Updated Date  \n",
       "0  North Shore Bank, FSB    31-May-13    31-May-13  \n",
       "1     Western State Bank    14-May-13    20-May-13  \n",
       "2           Synovus Bank    10-May-13    21-May-13  "
      ]
     },
     "execution_count": 24,
     "metadata": {},
     "output_type": "execute_result"
    }
   ],
   "source": [
    "df2editted"
   ]
  },
  {
   "cell_type": "code",
   "execution_count": 28,
   "id": "c498fcea-6927-4e0a-bcff-026f87831840",
   "metadata": {},
   "outputs": [
    {
     "ename": "ValueError",
     "evalue": "Length of values (2) does not match length of index (3)",
     "output_type": "error",
     "traceback": [
      "\u001b[1;31m--------------------------------------------------------------------\u001b[0m",
      "\u001b[1;31mValueError\u001b[0m                         Traceback (most recent call last)",
      "Cell \u001b[1;32mIn[28], line 1\u001b[0m\n\u001b[1;32m----> 1\u001b[0m \u001b[43mdf2editted\u001b[49m\u001b[43m[\u001b[49m\u001b[38;5;124;43m'\u001b[39;49m\u001b[38;5;124;43mnew_col\u001b[39;49m\u001b[38;5;124;43m'\u001b[39;49m\u001b[43m]\u001b[49m \u001b[38;5;241m=\u001b[39m [\u001b[38;5;124m'\u001b[39m\u001b[38;5;124m'\u001b[39m,\u001b[38;5;124m'\u001b[39m\u001b[38;5;124m'\u001b[39m]\n",
      "File \u001b[1;32m~\\AppData\\Local\\Programs\\Python\\Python313\\Lib\\site-packages\\pandas\\core\\frame.py:4311\u001b[0m, in \u001b[0;36mDataFrame.__setitem__\u001b[1;34m(self, key, value)\u001b[0m\n\u001b[0;32m   4308\u001b[0m     \u001b[38;5;28mself\u001b[39m\u001b[38;5;241m.\u001b[39m_setitem_array([key], value)\n\u001b[0;32m   4309\u001b[0m \u001b[38;5;28;01melse\u001b[39;00m:\n\u001b[0;32m   4310\u001b[0m     \u001b[38;5;66;03m# set column\u001b[39;00m\n\u001b[1;32m-> 4311\u001b[0m     \u001b[38;5;28;43mself\u001b[39;49m\u001b[38;5;241;43m.\u001b[39;49m\u001b[43m_set_item\u001b[49m\u001b[43m(\u001b[49m\u001b[43mkey\u001b[49m\u001b[43m,\u001b[49m\u001b[43m \u001b[49m\u001b[43mvalue\u001b[49m\u001b[43m)\u001b[49m\n",
      "File \u001b[1;32m~\\AppData\\Local\\Programs\\Python\\Python313\\Lib\\site-packages\\pandas\\core\\frame.py:4524\u001b[0m, in \u001b[0;36mDataFrame._set_item\u001b[1;34m(self, key, value)\u001b[0m\n\u001b[0;32m   4514\u001b[0m \u001b[38;5;28;01mdef\u001b[39;00m\u001b[38;5;250m \u001b[39m\u001b[38;5;21m_set_item\u001b[39m(\u001b[38;5;28mself\u001b[39m, key, value) \u001b[38;5;241m-\u001b[39m\u001b[38;5;241m>\u001b[39m \u001b[38;5;28;01mNone\u001b[39;00m:\n\u001b[0;32m   4515\u001b[0m \u001b[38;5;250m    \u001b[39m\u001b[38;5;124;03m\"\"\"\u001b[39;00m\n\u001b[0;32m   4516\u001b[0m \u001b[38;5;124;03m    Add series to DataFrame in specified column.\u001b[39;00m\n\u001b[0;32m   4517\u001b[0m \n\u001b[1;32m   (...)\u001b[0m\n\u001b[0;32m   4522\u001b[0m \u001b[38;5;124;03m    ensure homogeneity.\u001b[39;00m\n\u001b[0;32m   4523\u001b[0m \u001b[38;5;124;03m    \"\"\"\u001b[39;00m\n\u001b[1;32m-> 4524\u001b[0m     value, refs \u001b[38;5;241m=\u001b[39m \u001b[38;5;28;43mself\u001b[39;49m\u001b[38;5;241;43m.\u001b[39;49m\u001b[43m_sanitize_column\u001b[49m\u001b[43m(\u001b[49m\u001b[43mvalue\u001b[49m\u001b[43m)\u001b[49m\n\u001b[0;32m   4526\u001b[0m     \u001b[38;5;28;01mif\u001b[39;00m (\n\u001b[0;32m   4527\u001b[0m         key \u001b[38;5;129;01min\u001b[39;00m \u001b[38;5;28mself\u001b[39m\u001b[38;5;241m.\u001b[39mcolumns\n\u001b[0;32m   4528\u001b[0m         \u001b[38;5;129;01mand\u001b[39;00m value\u001b[38;5;241m.\u001b[39mndim \u001b[38;5;241m==\u001b[39m \u001b[38;5;241m1\u001b[39m\n\u001b[0;32m   4529\u001b[0m         \u001b[38;5;129;01mand\u001b[39;00m \u001b[38;5;129;01mnot\u001b[39;00m \u001b[38;5;28misinstance\u001b[39m(value\u001b[38;5;241m.\u001b[39mdtype, ExtensionDtype)\n\u001b[0;32m   4530\u001b[0m     ):\n\u001b[0;32m   4531\u001b[0m         \u001b[38;5;66;03m# broadcast across multiple columns if necessary\u001b[39;00m\n\u001b[0;32m   4532\u001b[0m         \u001b[38;5;28;01mif\u001b[39;00m \u001b[38;5;129;01mnot\u001b[39;00m \u001b[38;5;28mself\u001b[39m\u001b[38;5;241m.\u001b[39mcolumns\u001b[38;5;241m.\u001b[39mis_unique \u001b[38;5;129;01mor\u001b[39;00m \u001b[38;5;28misinstance\u001b[39m(\u001b[38;5;28mself\u001b[39m\u001b[38;5;241m.\u001b[39mcolumns, MultiIndex):\n",
      "File \u001b[1;32m~\\AppData\\Local\\Programs\\Python\\Python313\\Lib\\site-packages\\pandas\\core\\frame.py:5266\u001b[0m, in \u001b[0;36mDataFrame._sanitize_column\u001b[1;34m(self, value)\u001b[0m\n\u001b[0;32m   5263\u001b[0m     \u001b[38;5;28;01mreturn\u001b[39;00m _reindex_for_setitem(value, \u001b[38;5;28mself\u001b[39m\u001b[38;5;241m.\u001b[39mindex)\n\u001b[0;32m   5265\u001b[0m \u001b[38;5;28;01mif\u001b[39;00m is_list_like(value):\n\u001b[1;32m-> 5266\u001b[0m     \u001b[43mcom\u001b[49m\u001b[38;5;241;43m.\u001b[39;49m\u001b[43mrequire_length_match\u001b[49m\u001b[43m(\u001b[49m\u001b[43mvalue\u001b[49m\u001b[43m,\u001b[49m\u001b[43m \u001b[49m\u001b[38;5;28;43mself\u001b[39;49m\u001b[38;5;241;43m.\u001b[39;49m\u001b[43mindex\u001b[49m\u001b[43m)\u001b[49m\n\u001b[0;32m   5267\u001b[0m arr \u001b[38;5;241m=\u001b[39m sanitize_array(value, \u001b[38;5;28mself\u001b[39m\u001b[38;5;241m.\u001b[39mindex, copy\u001b[38;5;241m=\u001b[39m\u001b[38;5;28;01mTrue\u001b[39;00m, allow_2d\u001b[38;5;241m=\u001b[39m\u001b[38;5;28;01mTrue\u001b[39;00m)\n\u001b[0;32m   5268\u001b[0m \u001b[38;5;28;01mif\u001b[39;00m (\n\u001b[0;32m   5269\u001b[0m     \u001b[38;5;28misinstance\u001b[39m(value, Index)\n\u001b[0;32m   5270\u001b[0m     \u001b[38;5;129;01mand\u001b[39;00m value\u001b[38;5;241m.\u001b[39mdtype \u001b[38;5;241m==\u001b[39m \u001b[38;5;124m\"\u001b[39m\u001b[38;5;124mobject\u001b[39m\u001b[38;5;124m\"\u001b[39m\n\u001b[1;32m   (...)\u001b[0m\n\u001b[0;32m   5273\u001b[0m     \u001b[38;5;66;03m# TODO: Remove kludge in sanitize_array for string mode when enforcing\u001b[39;00m\n\u001b[0;32m   5274\u001b[0m     \u001b[38;5;66;03m# this deprecation\u001b[39;00m\n",
      "File \u001b[1;32m~\\AppData\\Local\\Programs\\Python\\Python313\\Lib\\site-packages\\pandas\\core\\common.py:573\u001b[0m, in \u001b[0;36mrequire_length_match\u001b[1;34m(data, index)\u001b[0m\n\u001b[0;32m    569\u001b[0m \u001b[38;5;250m\u001b[39m\u001b[38;5;124;03m\"\"\"\u001b[39;00m\n\u001b[0;32m    570\u001b[0m \u001b[38;5;124;03mCheck the length of data matches the length of the index.\u001b[39;00m\n\u001b[0;32m    571\u001b[0m \u001b[38;5;124;03m\"\"\"\u001b[39;00m\n\u001b[0;32m    572\u001b[0m \u001b[38;5;28;01mif\u001b[39;00m \u001b[38;5;28mlen\u001b[39m(data) \u001b[38;5;241m!=\u001b[39m \u001b[38;5;28mlen\u001b[39m(index):\n\u001b[1;32m--> 573\u001b[0m     \u001b[38;5;28;01mraise\u001b[39;00m \u001b[38;5;167;01mValueError\u001b[39;00m(\n\u001b[0;32m    574\u001b[0m         \u001b[38;5;124m\"\u001b[39m\u001b[38;5;124mLength of values \u001b[39m\u001b[38;5;124m\"\u001b[39m\n\u001b[0;32m    575\u001b[0m         \u001b[38;5;124mf\u001b[39m\u001b[38;5;124m\"\u001b[39m\u001b[38;5;124m(\u001b[39m\u001b[38;5;132;01m{\u001b[39;00m\u001b[38;5;28mlen\u001b[39m(data)\u001b[38;5;132;01m}\u001b[39;00m\u001b[38;5;124m) \u001b[39m\u001b[38;5;124m\"\u001b[39m\n\u001b[0;32m    576\u001b[0m         \u001b[38;5;124m\"\u001b[39m\u001b[38;5;124mdoes not match length of index \u001b[39m\u001b[38;5;124m\"\u001b[39m\n\u001b[0;32m    577\u001b[0m         \u001b[38;5;124mf\u001b[39m\u001b[38;5;124m\"\u001b[39m\u001b[38;5;124m(\u001b[39m\u001b[38;5;132;01m{\u001b[39;00m\u001b[38;5;28mlen\u001b[39m(index)\u001b[38;5;132;01m}\u001b[39;00m\u001b[38;5;124m)\u001b[39m\u001b[38;5;124m\"\u001b[39m\n\u001b[0;32m    578\u001b[0m     )\n",
      "\u001b[1;31mValueError\u001b[0m: Length of values (2) does not match length of index (3)"
     ]
    }
   ],
   "source": [
    "df2editted['new_col'] = ['','']"
   ]
  },
  {
   "cell_type": "code",
   "execution_count": null,
   "id": "85ba718b-8032-4d7f-943e-93276d3173ec",
   "metadata": {},
   "outputs": [],
   "source": []
  },
  {
   "cell_type": "code",
   "execution_count": null,
   "id": "185f3e5c-88f4-42ec-a4bb-cd86a0e6af49",
   "metadata": {},
   "outputs": [],
   "source": []
  }
 ],
 "metadata": {
  "kernelspec": {
   "display_name": "Python 3 (ipykernel)",
   "language": "python",
   "name": "python3"
  },
  "language_info": {
   "codemirror_mode": {
    "name": "ipython",
    "version": 3
   },
   "file_extension": ".py",
   "mimetype": "text/x-python",
   "name": "python",
   "nbconvert_exporter": "python",
   "pygments_lexer": "ipython3",
   "version": "3.13.1"
  }
 },
 "nbformat": 4,
 "nbformat_minor": 5
}
