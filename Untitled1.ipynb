{
 "cells": [
  {
   "cell_type": "code",
   "execution_count": 1,
   "id": "be8b2cf9-bc75-48a5-b818-0871258909d0",
   "metadata": {},
   "outputs": [],
   "source": [
    "from zeep import Client"
   ]
  },
  {
   "cell_type": "code",
   "execution_count": 4,
   "id": "a5d8025d-31b1-4a83-b841-61914cf32ab7",
   "metadata": {},
   "outputs": [],
   "source": [
    "client = Client(\"http://www.dneonline.com/calculator.asmx?wsdl\")"
   ]
  },
  {
   "cell_type": "code",
   "execution_count": 5,
   "id": "e7c5fd76-57fe-486e-ac91-0e79c9fd43e6",
   "metadata": {},
   "outputs": [
    {
     "data": {
      "text/plain": [
       "<zeep.proxy.OperationProxy at 0x19e4204f770>"
      ]
     },
     "execution_count": 5,
     "metadata": {},
     "output_type": "execute_result"
    }
   ],
   "source": [
    "client.service.Add"
   ]
  },
  {
   "cell_type": "code",
   "execution_count": 6,
   "id": "0196e917-3bd4-4ae8-b0de-2ee5742e8dc0",
   "metadata": {},
   "outputs": [
    {
     "data": {
      "text/plain": [
       "<zeep.client.Client at 0x19e43058b90>"
      ]
     },
     "execution_count": 6,
     "metadata": {},
     "output_type": "execute_result"
    }
   ],
   "source": [
    "client"
   ]
  },
  {
   "cell_type": "code",
   "execution_count": 7,
   "id": "99d7b66c-47df-4129-90c6-c810aacfda26",
   "metadata": {},
   "outputs": [
    {
     "ename": "AttributeError",
     "evalue": "'Client' object has no attribute 'Service'",
     "output_type": "error",
     "traceback": [
      "\u001b[1;31m-------------------------\u001b[0m",
      "\u001b[1;31mAttributeError\u001b[0mTraceback (most recent call last)",
      "Cell \u001b[1;32mIn[7], line 1\u001b[0m\n\u001b[1;32m----> 1\u001b[0m \u001b[43mclient\u001b[49m\u001b[38;5;241;43m.\u001b[39;49m\u001b[43mService\u001b[49m\u001b[38;5;241m.\u001b[39mAdd\n",
      "\u001b[1;31mAttributeError\u001b[0m: 'Client' object has no attribute 'Service'"
     ]
    }
   ],
   "source": [
    "client.Service.Add"
   ]
  },
  {
   "cell_type": "code",
   "execution_count": 8,
   "id": "e582f0f3-9a1b-43e1-b76d-1d47d9d64bb1",
   "metadata": {},
   "outputs": [
    {
     "data": {
      "text/plain": [
       "<zeep.proxy.OperationProxy at 0x19e4204f770>"
      ]
     },
     "execution_count": 8,
     "metadata": {},
     "output_type": "execute_result"
    }
   ],
   "source": [
    "client.service.Add"
   ]
  },
  {
   "cell_type": "code",
   "execution_count": 9,
   "id": "620ca2a4-88a1-44ce-9b20-f598db7db544",
   "metadata": {},
   "outputs": [
    {
     "data": {
      "text/plain": [
       "['__call__',\n",
       " '__class__',\n",
       " '__delattr__',\n",
       " '__dict__',\n",
       " '__dir__',\n",
       " '__doc__',\n",
       " '__eq__',\n",
       " '__firstlineno__',\n",
       " '__format__',\n",
       " '__ge__',\n",
       " '__getattribute__',\n",
       " '__getstate__',\n",
       " '__gt__',\n",
       " '__hash__',\n",
       " '__init__',\n",
       " '__init_subclass__',\n",
       " '__le__',\n",
       " '__lt__',\n",
       " '__module__',\n",
       " '__ne__',\n",
       " '__new__',\n",
       " '__reduce__',\n",
       " '__reduce_ex__',\n",
       " '__repr__',\n",
       " '__setattr__',\n",
       " '__sizeof__',\n",
       " '__static_attributes__',\n",
       " '__str__',\n",
       " '__subclasshook__',\n",
       " '__weakref__',\n",
       " '_merge_soap_headers',\n",
       " '_op_name',\n",
       " '_proxy']"
      ]
     },
     "execution_count": 9,
     "metadata": {},
     "output_type": "execute_result"
    }
   ],
   "source": [
    "dir(client.service.Add)"
   ]
  },
  {
   "cell_type": "code",
   "execution_count": 10,
   "id": "099e2ce4-d47c-418c-9ead-bdb6117a2301",
   "metadata": {},
   "outputs": [
    {
     "data": {
      "text/plain": [
       "'Add(intA: xsd:int, intB: xsd:int) -> AddResult: xsd:int'"
      ]
     },
     "execution_count": 10,
     "metadata": {},
     "output_type": "execute_result"
    }
   ],
   "source": [
    "client.service.Add.__doc__"
   ]
  },
  {
   "cell_type": "code",
   "execution_count": 11,
   "id": "cda9320b-5ab8-474d-b759-139432642d55",
   "metadata": {},
   "outputs": [
    {
     "data": {
      "text/plain": [
       "11"
      ]
     },
     "execution_count": 11,
     "metadata": {},
     "output_type": "execute_result"
    }
   ],
   "source": [
    "client.service.Add(5,6)"
   ]
  },
  {
   "cell_type": "code",
   "execution_count": 12,
   "id": "9d0de50c-f2b7-4a32-82b4-ceefaca03b9c",
   "metadata": {},
   "outputs": [
    {
     "data": {
      "text/plain": [
       "<zeep.proxy.ServiceProxy at 0x19e4204f620>"
      ]
     },
     "execution_count": 12,
     "metadata": {},
     "output_type": "execute_result"
    }
   ],
   "source": [
    "client.service"
   ]
  },
  {
   "cell_type": "code",
   "execution_count": 13,
   "id": "99c9ded9-e195-4f1e-a870-1d0190fbe39e",
   "metadata": {},
   "outputs": [
    {
     "name": "stdout",
     "output_type": "stream",
     "text": [
      "('Add', <zeep.proxy.OperationProxy object at 0x0000019E4204F770>)\n",
      "('Subtract', <zeep.proxy.OperationProxy object at 0x0000019E4305A0D0>)\n",
      "('Multiply', <zeep.proxy.OperationProxy object at 0x0000019E4305B750>)\n",
      "('Divide', <zeep.proxy.OperationProxy object at 0x0000019E430A28B0>)\n"
     ]
    }
   ],
   "source": [
    "for s in client.service:\n",
    "    print(s)"
   ]
  },
  {
   "cell_type": "code",
   "execution_count": 14,
   "id": "5f6508ca-167e-4e2e-bd8d-f61627e6ece3",
   "metadata": {},
   "outputs": [
    {
     "data": {
      "text/plain": [
       "'zeep.proxy'"
      ]
     },
     "execution_count": 14,
     "metadata": {},
     "output_type": "execute_result"
    }
   ],
   "source": [
    "client.service.__module__"
   ]
  },
  {
   "cell_type": "code",
   "execution_count": 15,
   "id": "91e6e875-58a5-42be-9af5-8b50d885372a",
   "metadata": {},
   "outputs": [
    {
     "data": {
      "text/plain": [
       "<function object.__new__(*args, **kwargs)>"
      ]
     },
     "execution_count": 15,
     "metadata": {},
     "output_type": "execute_result"
    }
   ],
   "source": [
    "client.service.__new__"
   ]
  },
  {
   "cell_type": "code",
   "execution_count": 17,
   "id": "a9c911de-1014-4320-89ec-13e5b7cee79c",
   "metadata": {},
   "outputs": [
    {
     "data": {
      "text/plain": [
       "<zeep.proxy.ServiceProxy at 0x19e4204f620>"
      ]
     },
     "execution_count": 17,
     "metadata": {},
     "output_type": "execute_result"
    }
   ],
   "source": [
    "client.service"
   ]
  },
  {
   "cell_type": "code",
   "execution_count": 18,
   "id": "72dae88f-227b-4a22-b0c3-9b26b7daaf5b",
   "metadata": {},
   "outputs": [
    {
     "data": {
      "text/plain": [
       "['Add',\n",
       " 'Divide',\n",
       " 'Multiply',\n",
       " 'Subtract',\n",
       " '__class__',\n",
       " '__delattr__',\n",
       " '__dir__',\n",
       " '__doc__',\n",
       " '__eq__',\n",
       " '__format__',\n",
       " '__ge__',\n",
       " '__get__',\n",
       " '__getattribute__',\n",
       " '__getstate__',\n",
       " '__gt__',\n",
       " '__hash__',\n",
       " '__init__',\n",
       " '__init_subclass__',\n",
       " '__le__',\n",
       " '__lt__',\n",
       " '__ne__',\n",
       " '__new__',\n",
       " '__reduce__',\n",
       " '__reduce_ex__',\n",
       " '__repr__',\n",
       " '__self__',\n",
       " '__self_class__',\n",
       " '__setattr__',\n",
       " '__sizeof__',\n",
       " '__str__',\n",
       " '__subclasshook__',\n",
       " '__thisclass__']"
      ]
     },
     "execution_count": 18,
     "metadata": {},
     "output_type": "execute_result"
    }
   ],
   "source": [
    "dir(client.service)"
   ]
  },
  {
   "cell_type": "code",
   "execution_count": 19,
   "id": "68441d18-8d1d-46d0-94c4-d370a747a282",
   "metadata": {},
   "outputs": [
    {
     "data": {
      "text/plain": [
       "<function ServiceProxy.__getstate__()>"
      ]
     },
     "execution_count": 19,
     "metadata": {},
     "output_type": "execute_result"
    }
   ],
   "source": [
    "client.service.__getstate__"
   ]
  },
  {
   "cell_type": "code",
   "execution_count": 21,
   "id": "62cf5dc0-9104-4dbd-a5c3-c49cd254458e",
   "metadata": {},
   "outputs": [
    {
     "data": {
      "text/plain": [
       "{'_proxy': <zeep.proxy.ServiceProxy at 0x19e4204f620>, '_op_name': 'Add'}"
      ]
     },
     "execution_count": 21,
     "metadata": {},
     "output_type": "execute_result"
    }
   ],
   "source": [
    "client.service.Add.__getstate__()"
   ]
  },
  {
   "cell_type": "code",
   "execution_count": 23,
   "id": "a9893eb3-d95d-4180-88a8-4d78b18a7bf5",
   "metadata": {},
   "outputs": [
    {
     "data": {
      "text/plain": [
       "42"
      ]
     },
     "execution_count": 23,
     "metadata": {},
     "output_type": "execute_result"
    }
   ],
   "source": [
    "client.service.Multiply(6,7)"
   ]
  },
  {
   "cell_type": "code",
   "execution_count": 24,
   "id": "8a53f821-2e31-4398-8ffa-46c8441c07b6",
   "metadata": {},
   "outputs": [],
   "source": [
    "import pandas as pd\n",
    "import numpy as np "
   ]
  },
  {
   "cell_type": "code",
   "execution_count": 26,
   "id": "148b2a85-a1cf-4cbc-b0c8-ebf3aa055fbb",
   "metadata": {},
   "outputs": [],
   "source": [
    "df = pd.read_csv(r\"D:\\\\banklist.csv\")"
   ]
  },
  {
   "cell_type": "code",
   "execution_count": 29,
   "id": "bdb0d340-0c83-4c82-8bd6-c04410f0b309",
   "metadata": {},
   "outputs": [
    {
     "data": {
      "text/html": [
       "<div>\n",
       "<style scoped>\n",
       "    .dataframe tbody tr th:only-of-type {\n",
       "        vertical-align: middle;\n",
       "    }\n",
       "\n",
       "    .dataframe tbody tr th {\n",
       "        vertical-align: top;\n",
       "    }\n",
       "\n",
       "    .dataframe thead th {\n",
       "        text-align: right;\n",
       "    }\n",
       "</style>\n",
       "<table border=\"1\" class=\"dataframe\">\n",
       "  <thead>\n",
       "    <tr style=\"text-align: right;\">\n",
       "      <th></th>\n",
       "      <th>Bank Name</th>\n",
       "      <th>City</th>\n",
       "      <th>ST</th>\n",
       "      <th>CERT</th>\n",
       "      <th>Acquiring Institution</th>\n",
       "      <th>Closing Date</th>\n",
       "      <th>Updated Date</th>\n",
       "    </tr>\n",
       "  </thead>\n",
       "  <tbody>\n",
       "    <tr>\n",
       "      <th>0</th>\n",
       "      <td>Banks of Wisconsin d/b/a Bank of Kenosha</td>\n",
       "      <td>Kenosha</td>\n",
       "      <td>WI</td>\n",
       "      <td>35386</td>\n",
       "      <td>North Shore Bank, FSB</td>\n",
       "      <td>31-May-13</td>\n",
       "      <td>31-May-13</td>\n",
       "    </tr>\n",
       "    <tr>\n",
       "      <th>1</th>\n",
       "      <td>Central Arizona Bank</td>\n",
       "      <td>Scottsdale</td>\n",
       "      <td>AZ</td>\n",
       "      <td>34527</td>\n",
       "      <td>Western State Bank</td>\n",
       "      <td>14-May-13</td>\n",
       "      <td>20-May-13</td>\n",
       "    </tr>\n",
       "    <tr>\n",
       "      <th>2</th>\n",
       "      <td>Sunrise Bank</td>\n",
       "      <td>Valdosta</td>\n",
       "      <td>GA</td>\n",
       "      <td>58185</td>\n",
       "      <td>Synovus Bank</td>\n",
       "      <td>10-May-13</td>\n",
       "      <td>21-May-13</td>\n",
       "    </tr>\n",
       "    <tr>\n",
       "      <th>3</th>\n",
       "      <td>Pisgah Community Bank</td>\n",
       "      <td>Asheville</td>\n",
       "      <td>NC</td>\n",
       "      <td>58701</td>\n",
       "      <td>Capital Bank, N.A.</td>\n",
       "      <td>10-May-13</td>\n",
       "      <td>14-May-13</td>\n",
       "    </tr>\n",
       "    <tr>\n",
       "      <th>4</th>\n",
       "      <td>Douglas County Bank</td>\n",
       "      <td>Douglasville</td>\n",
       "      <td>GA</td>\n",
       "      <td>21649</td>\n",
       "      <td>Hamilton State Bank</td>\n",
       "      <td>26-Apr-13</td>\n",
       "      <td>16-May-13</td>\n",
       "    </tr>\n",
       "  </tbody>\n",
       "</table>\n",
       "</div>"
      ],
      "text/plain": [
       "                                  Bank Name          City  ST   CERT  \\\n",
       "0  Banks of Wisconsin d/b/a Bank of Kenosha       Kenosha  WI  35386   \n",
       "1                      Central Arizona Bank    Scottsdale  AZ  34527   \n",
       "2                              Sunrise Bank      Valdosta  GA  58185   \n",
       "3                     Pisgah Community Bank     Asheville  NC  58701   \n",
       "4                       Douglas County Bank  Douglasville  GA  21649   \n",
       "\n",
       "   Acquiring Institution Closing Date Updated Date  \n",
       "0  North Shore Bank, FSB    31-May-13    31-May-13  \n",
       "1     Western State Bank    14-May-13    20-May-13  \n",
       "2           Synovus Bank    10-May-13    21-May-13  \n",
       "3     Capital Bank, N.A.    10-May-13    14-May-13  \n",
       "4    Hamilton State Bank    26-Apr-13    16-May-13  "
      ]
     },
     "execution_count": 29,
     "metadata": {},
     "output_type": "execute_result"
    }
   ],
   "source": [
    "df.head(5)"
   ]
  },
  {
   "cell_type": "code",
   "execution_count": 30,
   "id": "fb65bf12-3daa-493f-b497-b813eac4e222",
   "metadata": {},
   "outputs": [
    {
     "data": {
      "text/html": [
       "<div>\n",
       "<style scoped>\n",
       "    .dataframe tbody tr th:only-of-type {\n",
       "        vertical-align: middle;\n",
       "    }\n",
       "\n",
       "    .dataframe tbody tr th {\n",
       "        vertical-align: top;\n",
       "    }\n",
       "\n",
       "    .dataframe thead th {\n",
       "        text-align: right;\n",
       "    }\n",
       "</style>\n",
       "<table border=\"1\" class=\"dataframe\">\n",
       "  <thead>\n",
       "    <tr style=\"text-align: right;\">\n",
       "      <th></th>\n",
       "      <th>CERT</th>\n",
       "    </tr>\n",
       "  </thead>\n",
       "  <tbody>\n",
       "    <tr>\n",
       "      <th>count</th>\n",
       "      <td>506.00000</td>\n",
       "    </tr>\n",
       "    <tr>\n",
       "      <th>mean</th>\n",
       "      <td>31948.91502</td>\n",
       "    </tr>\n",
       "    <tr>\n",
       "      <th>std</th>\n",
       "      <td>16367.55409</td>\n",
       "    </tr>\n",
       "    <tr>\n",
       "      <th>min</th>\n",
       "      <td>151.00000</td>\n",
       "    </tr>\n",
       "    <tr>\n",
       "      <th>25%</th>\n",
       "      <td>21222.75000</td>\n",
       "    </tr>\n",
       "    <tr>\n",
       "      <th>50%</th>\n",
       "      <td>32176.00000</td>\n",
       "    </tr>\n",
       "    <tr>\n",
       "      <th>75%</th>\n",
       "      <td>35385.25000</td>\n",
       "    </tr>\n",
       "    <tr>\n",
       "      <th>max</th>\n",
       "      <td>58701.00000</td>\n",
       "    </tr>\n",
       "  </tbody>\n",
       "</table>\n",
       "</div>"
      ],
      "text/plain": [
       "              CERT\n",
       "count    506.00000\n",
       "mean   31948.91502\n",
       "std    16367.55409\n",
       "min      151.00000\n",
       "25%    21222.75000\n",
       "50%    32176.00000\n",
       "75%    35385.25000\n",
       "max    58701.00000"
      ]
     },
     "execution_count": 30,
     "metadata": {},
     "output_type": "execute_result"
    }
   ],
   "source": [
    "df.describe()"
   ]
  },
  {
   "cell_type": "code",
   "execution_count": 31,
   "id": "d141d3ee-cb5e-40ba-a957-d5d2ba7e43db",
   "metadata": {},
   "outputs": [
    {
     "data": {
      "text/html": [
       "<div>\n",
       "<style scoped>\n",
       "    .dataframe tbody tr th:only-of-type {\n",
       "        vertical-align: middle;\n",
       "    }\n",
       "\n",
       "    .dataframe tbody tr th {\n",
       "        vertical-align: top;\n",
       "    }\n",
       "\n",
       "    .dataframe thead th {\n",
       "        text-align: right;\n",
       "    }\n",
       "</style>\n",
       "<table border=\"1\" class=\"dataframe\">\n",
       "  <thead>\n",
       "    <tr style=\"text-align: right;\">\n",
       "      <th></th>\n",
       "      <th>CERT</th>\n",
       "    </tr>\n",
       "  </thead>\n",
       "  <tbody>\n",
       "    <tr>\n",
       "      <th>count</th>\n",
       "      <td>506.00000</td>\n",
       "    </tr>\n",
       "    <tr>\n",
       "      <th>mean</th>\n",
       "      <td>31948.91502</td>\n",
       "    </tr>\n",
       "    <tr>\n",
       "      <th>std</th>\n",
       "      <td>16367.55409</td>\n",
       "    </tr>\n",
       "    <tr>\n",
       "      <th>min</th>\n",
       "      <td>151.00000</td>\n",
       "    </tr>\n",
       "    <tr>\n",
       "      <th>25%</th>\n",
       "      <td>21222.75000</td>\n",
       "    </tr>\n",
       "    <tr>\n",
       "      <th>50%</th>\n",
       "      <td>32176.00000</td>\n",
       "    </tr>\n",
       "    <tr>\n",
       "      <th>75%</th>\n",
       "      <td>35385.25000</td>\n",
       "    </tr>\n",
       "    <tr>\n",
       "      <th>max</th>\n",
       "      <td>58701.00000</td>\n",
       "    </tr>\n",
       "  </tbody>\n",
       "</table>\n",
       "</div>"
      ],
      "text/plain": [
       "              CERT\n",
       "count    506.00000\n",
       "mean   31948.91502\n",
       "std    16367.55409\n",
       "min      151.00000\n",
       "25%    21222.75000\n",
       "50%    32176.00000\n",
       "75%    35385.25000\n",
       "max    58701.00000"
      ]
     },
     "execution_count": 31,
     "metadata": {},
     "output_type": "execute_result"
    }
   ],
   "source": [
    "df.describe()"
   ]
  },
  {
   "cell_type": "code",
   "execution_count": 32,
   "id": "9d92a319-f631-4086-b392-3d74ff8dafdb",
   "metadata": {},
   "outputs": [],
   "source": [
    "new = df[['Bank Name' , 'City']]"
   ]
  },
  {
   "cell_type": "code",
   "execution_count": 33,
   "id": "5c371544-212c-40dd-bdde-b6b9f47a064c",
   "metadata": {},
   "outputs": [
    {
     "data": {
      "text/html": [
       "<div>\n",
       "<style scoped>\n",
       "    .dataframe tbody tr th:only-of-type {\n",
       "        vertical-align: middle;\n",
       "    }\n",
       "\n",
       "    .dataframe tbody tr th {\n",
       "        vertical-align: top;\n",
       "    }\n",
       "\n",
       "    .dataframe thead th {\n",
       "        text-align: right;\n",
       "    }\n",
       "</style>\n",
       "<table border=\"1\" class=\"dataframe\">\n",
       "  <thead>\n",
       "    <tr style=\"text-align: right;\">\n",
       "      <th></th>\n",
       "      <th>Bank Name</th>\n",
       "      <th>City</th>\n",
       "    </tr>\n",
       "  </thead>\n",
       "  <tbody>\n",
       "    <tr>\n",
       "      <th>0</th>\n",
       "      <td>Banks of Wisconsin d/b/a Bank of Kenosha</td>\n",
       "      <td>Kenosha</td>\n",
       "    </tr>\n",
       "    <tr>\n",
       "      <th>1</th>\n",
       "      <td>Central Arizona Bank</td>\n",
       "      <td>Scottsdale</td>\n",
       "    </tr>\n",
       "    <tr>\n",
       "      <th>2</th>\n",
       "      <td>Sunrise Bank</td>\n",
       "      <td>Valdosta</td>\n",
       "    </tr>\n",
       "    <tr>\n",
       "      <th>3</th>\n",
       "      <td>Pisgah Community Bank</td>\n",
       "      <td>Asheville</td>\n",
       "    </tr>\n",
       "    <tr>\n",
       "      <th>4</th>\n",
       "      <td>Douglas County Bank</td>\n",
       "      <td>Douglasville</td>\n",
       "    </tr>\n",
       "    <tr>\n",
       "      <th>...</th>\n",
       "      <td>...</td>\n",
       "      <td>...</td>\n",
       "    </tr>\n",
       "    <tr>\n",
       "      <th>501</th>\n",
       "      <td>Superior Bank, FSB</td>\n",
       "      <td>Hinsdale</td>\n",
       "    </tr>\n",
       "    <tr>\n",
       "      <th>502</th>\n",
       "      <td>Malta National Bank</td>\n",
       "      <td>Malta</td>\n",
       "    </tr>\n",
       "    <tr>\n",
       "      <th>503</th>\n",
       "      <td>First Alliance Bank &amp; Trust Co.</td>\n",
       "      <td>Manchester</td>\n",
       "    </tr>\n",
       "    <tr>\n",
       "      <th>504</th>\n",
       "      <td>National State Bank of Metropolis</td>\n",
       "      <td>Metropolis</td>\n",
       "    </tr>\n",
       "    <tr>\n",
       "      <th>505</th>\n",
       "      <td>Bank of Honolulu</td>\n",
       "      <td>Honolulu</td>\n",
       "    </tr>\n",
       "  </tbody>\n",
       "</table>\n",
       "<p>506 rows × 2 columns</p>\n",
       "</div>"
      ],
      "text/plain": [
       "                                    Bank Name          City\n",
       "0    Banks of Wisconsin d/b/a Bank of Kenosha       Kenosha\n",
       "1                        Central Arizona Bank    Scottsdale\n",
       "2                                Sunrise Bank      Valdosta\n",
       "3                       Pisgah Community Bank     Asheville\n",
       "4                         Douglas County Bank  Douglasville\n",
       "..                                        ...           ...\n",
       "501                        Superior Bank, FSB      Hinsdale\n",
       "502                       Malta National Bank         Malta\n",
       "503           First Alliance Bank & Trust Co.    Manchester\n",
       "504         National State Bank of Metropolis    Metropolis\n",
       "505                          Bank of Honolulu      Honolulu\n",
       "\n",
       "[506 rows x 2 columns]"
      ]
     },
     "execution_count": 33,
     "metadata": {},
     "output_type": "execute_result"
    }
   ],
   "source": [
    "new"
   ]
  },
  {
   "cell_type": "code",
   "execution_count": 35,
   "id": "35bd2efe-ada3-4fb0-bb21-1070877ac06a",
   "metadata": {},
   "outputs": [
    {
     "data": {
      "text/plain": [
       "array([['Banks of Wisconsin d/b/a Bank of Kenosha', 'Kenosha'],\n",
       "       ['Central Arizona Bank', 'Scottsdale'],\n",
       "       ['Sunrise Bank', 'Valdosta'],\n",
       "       ...,\n",
       "       ['First Alliance Bank & Trust Co.', 'Manchester'],\n",
       "       ['National State Bank of Metropolis', 'Metropolis'],\n",
       "       ['Bank of Honolulu', 'Honolulu']], shape=(506, 2), dtype=object)"
      ]
     },
     "execution_count": 35,
     "metadata": {},
     "output_type": "execute_result"
    }
   ],
   "source": [
    "new.values"
   ]
  },
  {
   "cell_type": "code",
   "execution_count": null,
   "id": "f3d4ba33-724c-4f7a-8707-7796c6e26289",
   "metadata": {},
   "outputs": [],
   "source": []
  }
 ],
 "metadata": {
  "kernelspec": {
   "display_name": "Python 3 (ipykernel)",
   "language": "python",
   "name": "python3"
  },
  "language_info": {
   "codemirror_mode": {
    "name": "ipython",
    "version": 3
   },
   "file_extension": ".py",
   "mimetype": "text/x-python",
   "name": "python",
   "nbconvert_exporter": "python",
   "pygments_lexer": "ipython3",
   "version": "3.13.1"
  }
 },
 "nbformat": 4,
 "nbformat_minor": 5
}
