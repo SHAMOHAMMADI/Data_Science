{
 "cells": [
  {
   "cell_type": "code",
   "execution_count": 2,
   "id": "3a7034f4-299c-4dc0-870b-b53cc25d813f",
   "metadata": {},
   "outputs": [],
   "source": [
    "import torch\n",
    "import numpy as np\n",
    "import pandas as pd\n",
    "import matplotlib.pyplot as plt\n",
    "import cv2 as cv"
   ]
  },
  {
   "cell_type": "code",
   "execution_count": 4,
   "id": "6963a776-2aa9-401f-b76d-cf0ffed65f33",
   "metadata": {},
   "outputs": [
    {
     "data": {
      "text/plain": [
       "array([6, 5, 4])"
      ]
     },
     "execution_count": 4,
     "metadata": {},
     "output_type": "execute_result"
    }
   ],
   "source": [
    "x10 = np.array([6 , 5 , 4 ,])\n",
    "x10"
   ]
  },
  {
   "cell_type": "markdown",
   "id": "0a76dec5-9e38-4ec0-8b0f-87c341b18a4c",
   "metadata": {},
   "source": [
    "### numpy"
   ]
  },
  {
   "cell_type": "code",
   "execution_count": 5,
   "id": "5c3a6dd0-9a9a-4609-8085-50ed96571bdd",
   "metadata": {},
   "outputs": [
    {
     "name": "stdout",
     "output_type": "stream",
     "text": [
      "n1 : [2, 3, 4, 5] , n2:[10, 11, 12, 13]\n"
     ]
    }
   ],
   "source": [
    "n1 = [2 , 3 , 4 , 5]\n",
    "n2 = [10 , 11 , 12 , 13]\n",
    "print(f\"n1 : {n1} , n2:{n2}\")"
   ]
  },
  {
   "cell_type": "code",
   "execution_count": 7,
   "id": "a7ed4b4e-fe23-4c7a-94ad-bd5831916566",
   "metadata": {},
   "outputs": [
    {
     "name": "stdout",
     "output_type": "stream",
     "text": [
      "[12 14 16 18]\n"
     ]
    }
   ],
   "source": [
    "print(np.add(n1, n2))"
   ]
  },
  {
   "cell_type": "code",
   "execution_count": 9,
   "id": "0e21c387-cd27-4b44-9d03-96bda42d1ca0",
   "metadata": {},
   "outputs": [
    {
     "name": "stdout",
     "output_type": "stream",
     "text": [
      "10\n",
      "type n3 : <class 'numpy.ndarray'>\n"
     ]
    }
   ],
   "source": [
    "n3 = np.array([10 , 11 , 12 , 13])\n",
    "print(n3[0])\n",
    "print(f\"type n3 : {type(n3)}\")"
   ]
  },
  {
   "cell_type": "code",
   "execution_count": 10,
   "id": "dde685ac-3ab4-4d8e-8dc0-52f880850ef4",
   "metadata": {},
   "outputs": [
    {
     "name": "stdout",
     "output_type": "stream",
     "text": [
      "n4 : [1. 1. 1. 1. 1.], n5:[0. 0. 0.] , n6:[ 0.00000000e+000  9.36144543e-312 -0.00000000e+000]\n"
     ]
    }
   ],
   "source": [
    "n4 = np.ones(5)\n",
    "n5 = np.zeros(3)\n",
    "n6 = np.empty(3)\n",
    "print(f\"n4 : {n4}, n5:{n5} , n6:{n6}\")"
   ]
  },
  {
   "cell_type": "code",
   "execution_count": 13,
   "id": "c8990384-902a-4d8f-b2b9-9401900512db",
   "metadata": {},
   "outputs": [
    {
     "data": {
      "text/plain": [
       "array([[1., 1., 1.],\n",
       "       [1., 1., 1.],\n",
       "       [1., 1., 1.],\n",
       "       [1., 1., 1.],\n",
       "       [1., 1., 1.]])"
      ]
     },
     "execution_count": 13,
     "metadata": {},
     "output_type": "execute_result"
    }
   ],
   "source": [
    "n7 = np.ones([5 , 3])\n",
    "n7"
   ]
  },
  {
   "cell_type": "code",
   "execution_count": 25,
   "id": "0a79409e-2d19-4dab-a35f-d9c585adb2b9",
   "metadata": {},
   "outputs": [
    {
     "data": {
      "text/plain": [
       "array([0, 1, 2, 3])"
      ]
     },
     "execution_count": 25,
     "metadata": {},
     "output_type": "execute_result"
    }
   ],
   "source": [
    "n8 = np.arange(4)\n",
    "n8\n",
    "\n"
   ]
  },
  {
   "cell_type": "code",
   "execution_count": 23,
   "id": "2f888faf-d916-470a-bfb2-82ba5da01e54",
   "metadata": {},
   "outputs": [
    {
     "data": {
      "text/plain": [
       "array([2, 4, 6, 8])"
      ]
     },
     "execution_count": 23,
     "metadata": {},
     "output_type": "execute_result"
    }
   ],
   "source": [
    "n9 = np.arange(2 , 9 , 2)\n",
    "n9"
   ]
  },
  {
   "cell_type": "code",
   "execution_count": 21,
   "id": "890d34f8-9d1e-419c-946f-7defe9c2064d",
   "metadata": {},
   "outputs": [
    {
     "data": {
      "text/plain": [
       "array([ 0. ,  2.5,  5. ,  7.5, 10. ])"
      ]
     },
     "execution_count": 21,
     "metadata": {},
     "output_type": "execute_result"
    }
   ],
   "source": [
    "n10 = np.linspace(0 , 10 , num=5)\n",
    "n10"
   ]
  },
  {
   "cell_type": "code",
   "execution_count": 26,
   "id": "de5b4b1b-1d3b-4cf2-b4b2-b7128df8547d",
   "metadata": {},
   "outputs": [
    {
     "data": {
      "text/plain": [
       "array([[0, 1, 2, 3],\n",
       "       [4, 5, 6, 7]])"
      ]
     },
     "execution_count": 26,
     "metadata": {},
     "output_type": "execute_result"
    }
   ],
   "source": [
    "n11 = np.array([\n",
    "    [0 , 1 , 2 , 3] ,\n",
    "    [4 , 5 , 6 , 7] ,\n",
    "])\n",
    "n11"
   ]
  },
  {
   "cell_type": "code",
   "execution_count": 30,
   "id": "7dd0f8a5-d97c-4110-8f38-7aa764498598",
   "metadata": {},
   "outputs": [
    {
     "data": {
      "text/plain": [
       "2"
      ]
     },
     "execution_count": 30,
     "metadata": {},
     "output_type": "execute_result"
    }
   ],
   "source": [
    "n11.ndim"
   ]
  },
  {
   "cell_type": "code",
   "execution_count": 31,
   "id": "615636ea-ac31-48ab-a578-ab75441b67ab",
   "metadata": {},
   "outputs": [
    {
     "data": {
      "text/plain": [
       "8"
      ]
     },
     "execution_count": 31,
     "metadata": {},
     "output_type": "execute_result"
    }
   ],
   "source": [
    "n11.size"
   ]
  },
  {
   "cell_type": "code",
   "execution_count": 32,
   "id": "37e624d4-84ba-4a51-9b85-aa344fdc9f9b",
   "metadata": {},
   "outputs": [
    {
     "data": {
      "text/plain": [
       "(2, 4)"
      ]
     },
     "execution_count": 32,
     "metadata": {},
     "output_type": "execute_result"
    }
   ],
   "source": [
    "n11.shape"
   ]
  },
  {
   "cell_type": "code",
   "execution_count": 35,
   "id": "c9717491-55e0-4df3-8685-8a15e65dc91f",
   "metadata": {},
   "outputs": [
    {
     "data": {
      "text/plain": [
       "3"
      ]
     },
     "execution_count": 35,
     "metadata": {},
     "output_type": "execute_result"
    }
   ],
   "source": [
    "n12 = np.array([\n",
    "    [\n",
    "        [0 , 1 , 2 , 3 ],\n",
    "        [4 , 5 , 6 , 7 ],\n",
    "        [8 , 10 , 11 , 12]\n",
    "    ],\n",
    "    [\n",
    "        [0 , 1 , 2 , 3],\n",
    "        [4 , 5 , 6 , 7],\n",
    "        [8 , 9 , 10 , 11]\n",
    "    ]\n",
    "])\n",
    "n12.ndim"
   ]
  },
  {
   "cell_type": "code",
   "execution_count": 36,
   "id": "25d45d82-1c97-4dc8-bccf-1f66be97af61",
   "metadata": {},
   "outputs": [
    {
     "data": {
      "text/plain": [
       "24"
      ]
     },
     "execution_count": 36,
     "metadata": {},
     "output_type": "execute_result"
    }
   ],
   "source": [
    "n12.size"
   ]
  },
  {
   "cell_type": "code",
   "execution_count": 37,
   "id": "4ee08fa1-2b47-4ede-8c16-4f511403d752",
   "metadata": {},
   "outputs": [
    {
     "data": {
      "text/plain": [
       "(2, 3, 4)"
      ]
     },
     "execution_count": 37,
     "metadata": {},
     "output_type": "execute_result"
    }
   ],
   "source": [
    "n12.shape"
   ]
  },
  {
   "cell_type": "code",
   "execution_count": 39,
   "id": "972d87fa-4d52-4d39-a4dd-ab4ce8dd0570",
   "metadata": {},
   "outputs": [
    {
     "data": {
      "text/plain": [
       "(3, 8)"
      ]
     },
     "execution_count": 39,
     "metadata": {},
     "output_type": "execute_result"
    }
   ],
   "source": [
    "n13 = np.array([[ 0.,  0.,  0.,  0.,  0.,  0.,  0.,  0.],\n",
    "       [ 0.,  0.,  0.,  0.,  0.,  0.,  0.,  0.],\n",
    "       [ 0.,  0.,  0.,  0.,  0.,  0.,  0.,  0.]])\n",
    "n13.shape"
   ]
  },
  {
   "cell_type": "code",
   "execution_count": 40,
   "id": "6d6d34a0-af9d-40a4-85b2-3c2402f6c03f",
   "metadata": {},
   "outputs": [
    {
     "data": {
      "text/plain": [
       "2"
      ]
     },
     "execution_count": 40,
     "metadata": {},
     "output_type": "execute_result"
    }
   ],
   "source": [
    "n13.ndim"
   ]
  },
  {
   "cell_type": "code",
   "execution_count": 41,
   "id": "093c7df6-af4e-4d7b-b1bc-c080ab672075",
   "metadata": {},
   "outputs": [
    {
     "data": {
      "text/plain": [
       "(3, 8)"
      ]
     },
     "execution_count": 41,
     "metadata": {},
     "output_type": "execute_result"
    }
   ],
   "source": [
    "n13.shape"
   ]
  },
  {
   "cell_type": "code",
   "execution_count": 43,
   "id": "4fc965bb-7cd1-4d7a-a974-c6772509024d",
   "metadata": {},
   "outputs": [
    {
     "data": {
      "text/plain": [
       "np.int64(56)"
      ]
     },
     "execution_count": 43,
     "metadata": {},
     "output_type": "execute_result"
    }
   ],
   "source": [
    "n14 = [1 , 2 , 4 , 7]\n",
    "np.prod(n14)"
   ]
  },
  {
   "cell_type": "code",
   "execution_count": 44,
   "id": "2ace7276-d4ee-4c40-b09f-a7f9764fb6b3",
   "metadata": {},
   "outputs": [
    {
     "data": {
      "text/plain": [
       "array([ 8.   , 42.875])"
      ]
     },
     "execution_count": 44,
     "metadata": {},
     "output_type": "execute_result"
    }
   ],
   "source": [
    "np.power([2 , 3.5],3)"
   ]
  },
  {
   "cell_type": "code",
   "execution_count": 45,
   "id": "54404657-2269-4b1d-83c6-54a4d333d19e",
   "metadata": {},
   "outputs": [
    {
     "data": {
      "text/plain": [
       "array([-1.        , -0.99949654, -0.99798668, -0.99547192, -0.99195481,\n",
       "       -0.98743889, -0.9819287 , -0.97542979, -0.9679487 , -0.95949297,\n",
       "       -0.95007112, -0.93969262, -0.92836793, -0.91610846, -0.90292654,\n",
       "       -0.88883545, -0.87384938, -0.85798341, -0.84125353, -0.82367658,\n",
       "       -0.80527026, -0.78605309, -0.76604444, -0.74526445, -0.72373404,\n",
       "       -0.70147489, -0.67850941, -0.65486073, -0.63055267, -0.60560969,\n",
       "       -0.58005691, -0.55392006, -0.52722547, -0.5       , -0.47227107,\n",
       "       -0.44406661, -0.41541501, -0.38634513, -0.35688622, -0.32706796,\n",
       "       -0.29692038, -0.26647381, -0.23575894, -0.20480667, -0.17364818,\n",
       "       -0.14231484, -0.1108382 , -0.07924996, -0.04758192, -0.01586596,\n",
       "        0.01586596,  0.04758192,  0.07924996,  0.1108382 ,  0.14231484,\n",
       "        0.17364818,  0.20480667,  0.23575894,  0.26647381,  0.29692038,\n",
       "        0.32706796,  0.35688622,  0.38634513,  0.41541501,  0.44406661,\n",
       "        0.47227107,  0.5       ,  0.52722547,  0.55392006,  0.58005691,\n",
       "        0.60560969,  0.63055267,  0.65486073,  0.67850941,  0.70147489,\n",
       "        0.72373404,  0.74526445,  0.76604444,  0.78605309,  0.80527026,\n",
       "        0.82367658,  0.84125353,  0.85798341,  0.87384938,  0.88883545,\n",
       "        0.90292654,  0.91610846,  0.92836793,  0.93969262,  0.95007112,\n",
       "        0.95949297,  0.9679487 ,  0.97542979,  0.9819287 ,  0.98743889,\n",
       "        0.99195481,  0.99547192,  0.99798668,  0.99949654,  1.        ])"
      ]
     },
     "execution_count": 45,
     "metadata": {},
     "output_type": "execute_result"
    }
   ],
   "source": [
    "np.sin(np.linspace(-np.pi/2 , np.pi/2 , 100))"
   ]
  },
  {
   "cell_type": "code",
   "execution_count": 46,
   "id": "0924d292-a058-4640-9ca8-7a44fc6c2f0b",
   "metadata": {},
   "outputs": [
    {
     "data": {
      "text/plain": [
       "np.float64(2.0)"
      ]
     },
     "execution_count": 46,
     "metadata": {},
     "output_type": "execute_result"
    }
   ],
   "source": [
    "np.sqrt(4)"
   ]
  },
  {
   "cell_type": "code",
   "execution_count": 47,
   "id": "80d35e94-1a4a-4f8a-be23-3a24d051789e",
   "metadata": {},
   "outputs": [
    {
     "data": {
      "text/plain": [
       "np.complex128(0.6931471805599453+3.141592653589793j)"
      ]
     },
     "execution_count": 47,
     "metadata": {},
     "output_type": "execute_result"
    }
   ],
   "source": [
    "np.emath.log(-2)"
   ]
  },
  {
   "cell_type": "code",
   "execution_count": 49,
   "id": "62b4837e-8619-43a3-bb82-d3f3e689debb",
   "metadata": {},
   "outputs": [
    {
     "data": {
      "text/plain": [
       "array([ 0,  1,  2,  3,  4,  5,  6,  7,  8,  9, 10, 11])"
      ]
     },
     "execution_count": 49,
     "metadata": {},
     "output_type": "execute_result"
    }
   ],
   "source": [
    "n15 = np.arange(12)\n",
    "n15"
   ]
  },
  {
   "cell_type": "code",
   "execution_count": 51,
   "id": "be9b4d25-40e7-4a0d-b771-37d73ba5d8ec",
   "metadata": {},
   "outputs": [
    {
     "data": {
      "text/plain": [
       "array([[ 0,  1,  2,  3],\n",
       "       [ 4,  5,  6,  7],\n",
       "       [ 8,  9, 10, 11]])"
      ]
     },
     "execution_count": 51,
     "metadata": {},
     "output_type": "execute_result"
    }
   ],
   "source": [
    "n16 = n15.reshape(3 , 4)\n",
    "n16"
   ]
  },
  {
   "cell_type": "code",
   "execution_count": 57,
   "id": "0c936c2d-e75b-4560-b957-1e2f81ecd34e",
   "metadata": {},
   "outputs": [
    {
     "data": {
      "text/plain": [
       "array([ 0,  1,  2,  3,  4,  5,  6,  7,  8,  9, 10, 11])"
      ]
     },
     "execution_count": 57,
     "metadata": {},
     "output_type": "execute_result"
    }
   ],
   "source": [
    "n17 = n16.reshape(-1)\n",
    "n17"
   ]
  },
  {
   "cell_type": "code",
   "execution_count": 58,
   "id": "49b15926-6f19-45f8-b864-017e3bc9dd70",
   "metadata": {},
   "outputs": [
    {
     "data": {
      "text/plain": [
       "array([[ 0,  1,  2,  3],\n",
       "       [ 4,  5,  6,  7],\n",
       "       [ 8,  9, 10, 11]])"
      ]
     },
     "execution_count": 58,
     "metadata": {},
     "output_type": "execute_result"
    }
   ],
   "source": [
    "n16 = n15.reshape(3 , 4)\n",
    "n16"
   ]
  },
  {
   "cell_type": "code",
   "execution_count": 61,
   "id": "6f589220-5682-4691-80e5-264c8a1b1038",
   "metadata": {},
   "outputs": [
    {
     "data": {
      "text/plain": [
       "array([ 0,  1,  2,  3,  4,  5,  6,  7,  8,  9, 10, 11])"
      ]
     },
     "execution_count": 61,
     "metadata": {},
     "output_type": "execute_result"
    }
   ],
   "source": [
    "n18 = n16.flatten()\n",
    "n18"
   ]
  },
  {
   "cell_type": "code",
   "execution_count": 62,
   "id": "89585dc8-134f-470e-890e-8c0f42a665e5",
   "metadata": {},
   "outputs": [
    {
     "data": {
      "text/plain": [
       "array([3, 4, 5, 6, 7, 8])"
      ]
     },
     "execution_count": 62,
     "metadata": {},
     "output_type": "execute_result"
    }
   ],
   "source": [
    "n19 = np.arange(3 , 9)\n",
    "n19"
   ]
  },
  {
   "cell_type": "code",
   "execution_count": 66,
   "id": "96a98a8e-90c2-4c36-a603-73006144a253",
   "metadata": {},
   "outputs": [
    {
     "data": {
      "text/plain": [
       "('n19:', np.int64(3))"
      ]
     },
     "execution_count": 66,
     "metadata": {},
     "output_type": "execute_result"
    }
   ],
   "source": [
    "\"n19:\",n19[0]"
   ]
  },
  {
   "cell_type": "code",
   "execution_count": 68,
   "id": "40f1b349-656f-4427-9bea-1d95d91d8812",
   "metadata": {},
   "outputs": [
    {
     "data": {
      "text/plain": [
       "('n19', np.int64(4))"
      ]
     },
     "execution_count": 68,
     "metadata": {},
     "output_type": "execute_result"
    }
   ],
   "source": [
    "\"n19\",n19[1]"
   ]
  },
  {
   "cell_type": "code",
   "execution_count": 69,
   "id": "f1082332-1b48-4b3a-98a0-2b90ca116d4f",
   "metadata": {},
   "outputs": [
    {
     "data": {
      "text/plain": [
       "('n19', array([5, 6, 7, 8]))"
      ]
     },
     "execution_count": 69,
     "metadata": {},
     "output_type": "execute_result"
    }
   ],
   "source": [
    "'n19' , n19[2:]"
   ]
  },
  {
   "cell_type": "code",
   "execution_count": 70,
   "id": "6faeaa56-4431-40b8-8374-2e984b761a93",
   "metadata": {},
   "outputs": [
    {
     "data": {
      "text/plain": [
       "('n19', array([6, 7, 8]))"
      ]
     },
     "execution_count": 70,
     "metadata": {},
     "output_type": "execute_result"
    }
   ],
   "source": [
    "'n19' , n19[-3:]"
   ]
  },
  {
   "cell_type": "code",
   "execution_count": 71,
   "id": "1693fa77-2ff4-4d62-8330-55ed0041ea76",
   "metadata": {},
   "outputs": [
    {
     "data": {
      "text/plain": [
       "('n19', array([5, 6]))"
      ]
     },
     "execution_count": 71,
     "metadata": {},
     "output_type": "execute_result"
    }
   ],
   "source": [
    "'n19' , n19[2:4]"
   ]
  },
  {
   "cell_type": "code",
   "execution_count": 72,
   "id": "5cf79f5d-6dea-4b7e-983d-7e1473899a88",
   "metadata": {},
   "outputs": [
    {
     "data": {
      "text/plain": [
       "array([[ 0,  1,  2,  3],\n",
       "       [ 4,  5,  6,  7],\n",
       "       [ 8,  9, 10, 11]])"
      ]
     },
     "execution_count": 72,
     "metadata": {},
     "output_type": "execute_result"
    }
   ],
   "source": [
    "n20 = np.arange(12).reshape(3 , 4)\n",
    "n20"
   ]
  },
  {
   "cell_type": "code",
   "execution_count": 74,
   "id": "4b5710d7-a14e-408c-b060-650bce372767",
   "metadata": {},
   "outputs": [
    {
     "data": {
      "text/plain": [
       "(array([0, 1, 2, 3]),\n",
       " np.int64(1),\n",
       " array([1, 2, 3]),\n",
       " array([0, 1, 2, 3]),\n",
       " array([ 9, 10]))"
      ]
     },
     "execution_count": 74,
     "metadata": {},
     "output_type": "execute_result"
    }
   ],
   "source": [
    "n20[0] , n20[0 , 1] , n20[0 , 1:] , n20[0 , :] , n20[2 , 1:3]"
   ]
  },
  {
   "cell_type": "code",
   "execution_count": 75,
   "id": "b10c1f1c-0f23-4c02-a88c-5815ef4ffc76",
   "metadata": {},
   "outputs": [
    {
     "data": {
      "text/plain": [
       "array([0, 1, 2, 3, 4])"
      ]
     },
     "execution_count": 75,
     "metadata": {},
     "output_type": "execute_result"
    }
   ],
   "source": [
    "n20[n20<5]"
   ]
  },
  {
   "cell_type": "code",
   "execution_count": 76,
   "id": "d7cf4d7c-0a7d-44df-b494-fa0b55bdd9ee",
   "metadata": {},
   "outputs": [
    {
     "data": {
      "text/plain": [
       "array([ 3,  4,  5,  6,  7,  8,  9, 10, 11])"
      ]
     },
     "execution_count": 76,
     "metadata": {},
     "output_type": "execute_result"
    }
   ],
   "source": [
    "n21 = (n20 >= 3 )\n",
    "n20[n21]"
   ]
  },
  {
   "cell_type": "code",
   "execution_count": 77,
   "id": "0eaab6d8-c39f-4631-9482-a3e4dfb4a976",
   "metadata": {},
   "outputs": [
    {
     "data": {
      "text/plain": [
       "array([3, 4, 5, 6, 7, 8])"
      ]
     },
     "execution_count": 77,
     "metadata": {},
     "output_type": "execute_result"
    }
   ],
   "source": [
    "n20[(n20>2)&(n20<9)]"
   ]
  },
  {
   "cell_type": "code",
   "execution_count": 78,
   "id": "b3962783-57f5-4032-9b17-a8650481e229",
   "metadata": {},
   "outputs": [
    {
     "data": {
      "text/plain": [
       "array([0, 1, 3, 6, 9])"
      ]
     },
     "execution_count": 78,
     "metadata": {},
     "output_type": "execute_result"
    }
   ],
   "source": [
    "n20[(n20<2)|(n20 % 3 == 0)]"
   ]
  },
  {
   "cell_type": "code",
   "execution_count": null,
   "id": "104aaea4-b0d8-40e0-8eb8-38970be0b2ef",
   "metadata": {},
   "outputs": [],
   "source": []
  }
 ],
 "metadata": {
  "kernelspec": {
   "display_name": "Python 3 (ipykernel)",
   "language": "python",
   "name": "python3"
  },
  "language_info": {
   "codemirror_mode": {
    "name": "ipython",
    "version": 3
   },
   "file_extension": ".py",
   "mimetype": "text/x-python",
   "name": "python",
   "nbconvert_exporter": "python",
   "pygments_lexer": "ipython3",
   "version": "3.13.2"
  }
 },
 "nbformat": 4,
 "nbformat_minor": 5
}
