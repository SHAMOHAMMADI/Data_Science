{
 "cells": [
  {
   "cell_type": "code",
   "execution_count": 1,
   "id": "087778da-4b5d-492b-bdbb-62067733a82e",
   "metadata": {},
   "outputs": [],
   "source": [
    "from zeep import Client"
   ]
  },
  {
   "cell_type": "code",
   "execution_count": 7,
   "id": "ecfbfc1c-d810-4d2e-8453-f56447bd9de6",
   "metadata": {},
   "outputs": [],
   "source": [
    "wsdl_url = \"http://www.dneonline.com/calculator.asmx?WSDL\""
   ]
  },
  {
   "cell_type": "code",
   "execution_count": 19,
   "id": "def3984d-c2bd-4382-8afb-e17d810ce773",
   "metadata": {},
   "outputs": [],
   "source": [
    "# client = Client(wsdl_url)"
   ]
  },
  {
   "cell_type": "code",
   "execution_count": 9,
   "id": "93de8903-f18f-49df-ad4b-5702d5eb9f10",
   "metadata": {},
   "outputs": [
    {
     "name": "stdout",
     "output_type": "stream",
     "text": [
      "<zeep.client.Client object at 0x0000022990D92B10>\n"
     ]
    }
   ],
   "source": [
    "print(client)"
   ]
  },
  {
   "cell_type": "code",
   "execution_count": 10,
   "id": "d9a4f81e-4e14-4f98-aa17-faac93caf57d",
   "metadata": {},
   "outputs": [
    {
     "name": "stdout",
     "output_type": "stream",
     "text": [
      "{'Add': <zeep.proxy.OperationProxy object at 0x0000022990FE3770>, 'Subtract': <zeep.proxy.OperationProxy object at 0x0000022991898050>, 'Multiply': <zeep.proxy.OperationProxy object at 0x0000022991898190>, 'Divide': <zeep.proxy.OperationProxy object at 0x000002299179B360>}\n"
     ]
    }
   ],
   "source": [
    "print(client.service._operations)"
   ]
  },
  {
   "cell_type": "code",
   "execution_count": 11,
   "id": "08378416-d334-4461-bdb1-ab22d06650c0",
   "metadata": {},
   "outputs": [
    {
     "name": "stdout",
     "output_type": "stream",
     "text": [
      "<Schema(location='http://www.dneonline.com/calculator.asmx?WSDL', tns='http://tempuri.org/')>\n"
     ]
    }
   ],
   "source": [
    "print(client.wsdl.types)"
   ]
  },
  {
   "cell_type": "code",
   "execution_count": 12,
   "id": "3c1ebce0-837b-4243-877e-242dc9d957d6",
   "metadata": {},
   "outputs": [
    {
     "ename": "AttributeError",
     "evalue": "'Schema' object has no attribute 'location'",
     "output_type": "error",
     "traceback": [
      "\u001b[1;31m-------------------------------------------------------\u001b[0m",
      "\u001b[1;31mAttributeError\u001b[0m        Traceback (most recent call last)",
      "Cell \u001b[1;32mIn[12], line 1\u001b[0m\n\u001b[1;32m----> 1\u001b[0m \u001b[38;5;28mprint\u001b[39m(\u001b[43mclient\u001b[49m\u001b[38;5;241;43m.\u001b[39;49m\u001b[43mwsdl\u001b[49m\u001b[38;5;241;43m.\u001b[39;49m\u001b[43mtypes\u001b[49m\u001b[38;5;241;43m.\u001b[39;49m\u001b[43mlocation\u001b[49m)\n",
      "\u001b[1;31mAttributeError\u001b[0m: 'Schema' object has no attribute 'location'"
     ]
    }
   ],
   "source": [
    "print(client.wsdl.types.location)"
   ]
  },
  {
   "cell_type": "code",
   "execution_count": 13,
   "id": "5fe91416-3b14-414f-a1bc-e7853f57ebde",
   "metadata": {},
   "outputs": [
    {
     "ename": "AttributeError",
     "evalue": "'Schema' object has no attribute '_location'",
     "output_type": "error",
     "traceback": [
      "\u001b[1;31m-------------------------------------------------------\u001b[0m",
      "\u001b[1;31mAttributeError\u001b[0m        Traceback (most recent call last)",
      "Cell \u001b[1;32mIn[13], line 1\u001b[0m\n\u001b[1;32m----> 1\u001b[0m \u001b[38;5;28mprint\u001b[39m(\u001b[43mclient\u001b[49m\u001b[38;5;241;43m.\u001b[39;49m\u001b[43mwsdl\u001b[49m\u001b[38;5;241;43m.\u001b[39;49m\u001b[43mtypes\u001b[49m\u001b[38;5;241;43m.\u001b[39;49m\u001b[43m_location\u001b[49m)\n",
      "\u001b[1;31mAttributeError\u001b[0m: 'Schema' object has no attribute '_location'"
     ]
    }
   ],
   "source": [
    "print(client.wsdl.types._location)"
   ]
  },
  {
   "cell_type": "code",
   "execution_count": 16,
   "id": "af9c8963-3923-44a2-b8f9-7e576dbf181f",
   "metadata": {},
   "outputs": [
    {
     "ename": "AttributeError",
     "evalue": "Service has no operation 'GetUserDetails'",
     "output_type": "error",
     "traceback": [
      "\u001b[1;31m-------------------------------------------------------\u001b[0m",
      "\u001b[1;31mKeyError\u001b[0m              Traceback (most recent call last)",
      "File \u001b[1;32m~\\AppData\\Local\\Programs\\Python\\Python313\\Lib\\site-packages\\zeep\\proxy.py:97\u001b[0m, in \u001b[0;36mServiceProxy.__getitem__\u001b[1;34m(self, key)\u001b[0m\n\u001b[0;32m     96\u001b[0m \u001b[38;5;28;01mtry\u001b[39;00m:\n\u001b[1;32m---> 97\u001b[0m     \u001b[38;5;28;01mreturn\u001b[39;00m \u001b[38;5;28;43mself\u001b[39;49m\u001b[38;5;241;43m.\u001b[39;49m\u001b[43m_operations\u001b[49m\u001b[43m[\u001b[49m\u001b[43mkey\u001b[49m\u001b[43m]\u001b[49m\n\u001b[0;32m     98\u001b[0m \u001b[38;5;28;01mexcept\u001b[39;00m \u001b[38;5;167;01mKeyError\u001b[39;00m:\n",
      "\u001b[1;31mKeyError\u001b[0m: 'GetUserDetails'",
      "\nDuring handling of the above exception, another exception occurred:\n",
      "\u001b[1;31mAttributeError\u001b[0m        Traceback (most recent call last)",
      "Cell \u001b[1;32mIn[16], line 1\u001b[0m\n\u001b[1;32m----> 1\u001b[0m response \u001b[38;5;241m=\u001b[39m \u001b[43mclient\u001b[49m\u001b[38;5;241;43m.\u001b[39;49m\u001b[43mservice\u001b[49m\u001b[38;5;241;43m.\u001b[39;49m\u001b[43mGetUserDetails\u001b[49m(userId\u001b[38;5;241m=\u001b[39m\u001b[38;5;241m123\u001b[39m)\n\u001b[0;32m      2\u001b[0m \u001b[38;5;28mprint\u001b[39m(response)\n",
      "File \u001b[1;32m~\\AppData\\Local\\Programs\\Python\\Python313\\Lib\\site-packages\\zeep\\proxy.py:88\u001b[0m, in \u001b[0;36mServiceProxy.__getattr__\u001b[1;34m(self, key)\u001b[0m\n\u001b[0;32m     82\u001b[0m \u001b[38;5;28;01mdef\u001b[39;00m\u001b[38;5;250m \u001b[39m\u001b[38;5;21m__getattr__\u001b[39m(\u001b[38;5;28mself\u001b[39m, key):\n\u001b[0;32m     83\u001b[0m \u001b[38;5;250m    \u001b[39m\u001b[38;5;124;03m\"\"\"Return the OperationProxy for the given key.\u001b[39;00m\n\u001b[0;32m     84\u001b[0m \n\u001b[0;32m     85\u001b[0m \u001b[38;5;124;03m    :rtype: OperationProxy()\u001b[39;00m\n\u001b[0;32m     86\u001b[0m \n\u001b[0;32m     87\u001b[0m \u001b[38;5;124;03m    \"\"\"\u001b[39;00m\n\u001b[1;32m---> 88\u001b[0m     \u001b[38;5;28;01mreturn\u001b[39;00m \u001b[38;5;28;43mself\u001b[39;49m\u001b[43m[\u001b[49m\u001b[43mkey\u001b[49m\u001b[43m]\u001b[49m\n",
      "File \u001b[1;32m~\\AppData\\Local\\Programs\\Python\\Python313\\Lib\\site-packages\\zeep\\proxy.py:99\u001b[0m, in \u001b[0;36mServiceProxy.__getitem__\u001b[1;34m(self, key)\u001b[0m\n\u001b[0;32m     97\u001b[0m     \u001b[38;5;28;01mreturn\u001b[39;00m \u001b[38;5;28mself\u001b[39m\u001b[38;5;241m.\u001b[39m_operations[key]\n\u001b[0;32m     98\u001b[0m \u001b[38;5;28;01mexcept\u001b[39;00m \u001b[38;5;167;01mKeyError\u001b[39;00m:\n\u001b[1;32m---> 99\u001b[0m     \u001b[38;5;28;01mraise\u001b[39;00m \u001b[38;5;167;01mAttributeError\u001b[39;00m(\u001b[38;5;124m\"\u001b[39m\u001b[38;5;124mService has no operation \u001b[39m\u001b[38;5;132;01m%r\u001b[39;00m\u001b[38;5;124m\"\u001b[39m \u001b[38;5;241m%\u001b[39m key)\n",
      "\u001b[1;31mAttributeError\u001b[0m: Service has no operation 'GetUserDetails'"
     ]
    }
   ],
   "source": [
    "response = client.service.GetUserDetails(userId=123)\n",
    "print(response)"
   ]
  },
  {
   "cell_type": "code",
   "execution_count": 17,
   "id": "ee081e90-c087-4dda-a785-1f0561dd3c1f",
   "metadata": {},
   "outputs": [
    {
     "ename": "_IncompleteInputError",
     "evalue": "incomplete input (947742612.py, line 1)",
     "output_type": "error",
     "traceback": [
      "\u001b[1;36m  Cell \u001b[1;32mIn[17], line 1\u001b[1;36m\u001b[0m\n\u001b[1;33m    print(client.get_type('ns0:userDetails')\u001b[0m\n\u001b[1;37m                                            ^\u001b[0m\n\u001b[1;31m_IncompleteInputError\u001b[0m\u001b[1;31m:\u001b[0m incomplete input\n"
     ]
    }
   ],
   "source": [
    "print(client.get_type('ns0:userDetails')"
   ]
  },
  {
   "cell_type": "code",
   "execution_count": 20,
   "id": "48526c66-7484-42cb-b20d-638d02585072",
   "metadata": {},
   "outputs": [
    {
     "ename": "HTTPError",
     "evalue": "404 Client Error: Not Found for url: https://www.example.com/soap?wsdl",
     "output_type": "error",
     "traceback": [
      "\u001b[1;31m-------------------------------------------------------\u001b[0m",
      "\u001b[1;31mHTTPError\u001b[0m             Traceback (most recent call last)",
      "Cell \u001b[1;32mIn[20], line 7\u001b[0m\n\u001b[0;32m      4\u001b[0m wsdl_url \u001b[38;5;241m=\u001b[39m \u001b[38;5;124m'\u001b[39m\u001b[38;5;124mhttps://www.example.com/soap?wsdl\u001b[39m\u001b[38;5;124m'\u001b[39m\n\u001b[0;32m      6\u001b[0m \u001b[38;5;66;03m# Create a client using the WSDL URL\u001b[39;00m\n\u001b[1;32m----> 7\u001b[0m client \u001b[38;5;241m=\u001b[39m \u001b[43mzeep\u001b[49m\u001b[38;5;241;43m.\u001b[39;49m\u001b[43mClient\u001b[49m\u001b[43m(\u001b[49m\u001b[43mwsdl\u001b[49m\u001b[38;5;241;43m=\u001b[39;49m\u001b[43mwsdl_url\u001b[49m\u001b[43m)\u001b[49m\n\u001b[0;32m      9\u001b[0m \u001b[38;5;66;03m# Call a method from the SOAP service\u001b[39;00m\n\u001b[0;32m     10\u001b[0m response \u001b[38;5;241m=\u001b[39m client\u001b[38;5;241m.\u001b[39mservice\u001b[38;5;241m.\u001b[39mSomeMethod(param1\u001b[38;5;241m=\u001b[39m\u001b[38;5;124m'\u001b[39m\u001b[38;5;124mvalue\u001b[39m\u001b[38;5;124m'\u001b[39m, param2\u001b[38;5;241m=\u001b[39m\u001b[38;5;124m'\u001b[39m\u001b[38;5;124mvalue\u001b[39m\u001b[38;5;124m'\u001b[39m)\n",
      "File \u001b[1;32m~\\AppData\\Local\\Programs\\Python\\Python313\\Lib\\site-packages\\zeep\\client.py:76\u001b[0m, in \u001b[0;36mClient.__init__\u001b[1;34m(self, wsdl, wsse, transport, service_name, port_name, plugins, settings)\u001b[0m\n\u001b[0;32m     74\u001b[0m     \u001b[38;5;28mself\u001b[39m\u001b[38;5;241m.\u001b[39mwsdl \u001b[38;5;241m=\u001b[39m wsdl\n\u001b[0;32m     75\u001b[0m \u001b[38;5;28;01melse\u001b[39;00m:\n\u001b[1;32m---> 76\u001b[0m     \u001b[38;5;28mself\u001b[39m\u001b[38;5;241m.\u001b[39mwsdl \u001b[38;5;241m=\u001b[39m \u001b[43mDocument\u001b[49m\u001b[43m(\u001b[49m\u001b[43mwsdl\u001b[49m\u001b[43m,\u001b[49m\u001b[43m \u001b[49m\u001b[38;5;28;43mself\u001b[39;49m\u001b[38;5;241;43m.\u001b[39;49m\u001b[43mtransport\u001b[49m\u001b[43m,\u001b[49m\u001b[43m \u001b[49m\u001b[43msettings\u001b[49m\u001b[38;5;241;43m=\u001b[39;49m\u001b[38;5;28;43mself\u001b[39;49m\u001b[38;5;241;43m.\u001b[39;49m\u001b[43msettings\u001b[49m\u001b[43m)\u001b[49m\n\u001b[0;32m     77\u001b[0m \u001b[38;5;28mself\u001b[39m\u001b[38;5;241m.\u001b[39mwsse \u001b[38;5;241m=\u001b[39m wsse\n\u001b[0;32m     78\u001b[0m \u001b[38;5;28mself\u001b[39m\u001b[38;5;241m.\u001b[39mplugins \u001b[38;5;241m=\u001b[39m plugins \u001b[38;5;28;01mif\u001b[39;00m plugins \u001b[38;5;129;01mis\u001b[39;00m \u001b[38;5;129;01mnot\u001b[39;00m \u001b[38;5;28;01mNone\u001b[39;00m \u001b[38;5;28;01melse\u001b[39;00m []\n",
      "File \u001b[1;32m~\\AppData\\Local\\Programs\\Python\\Python313\\Lib\\site-packages\\zeep\\wsdl\\wsdl.py:86\u001b[0m, in \u001b[0;36mDocument.__init__\u001b[1;34m(self, location, transport, base, settings)\u001b[0m\n\u001b[0;32m     77\u001b[0m \u001b[38;5;28mself\u001b[39m\u001b[38;5;241m.\u001b[39m_definitions \u001b[38;5;241m=\u001b[39m (\n\u001b[0;32m     78\u001b[0m     {}\n\u001b[0;32m     79\u001b[0m )  \u001b[38;5;66;03m# type: typing.Dict[typing.Tuple[str, str], \"Definition\"]\u001b[39;00m\n\u001b[0;32m     80\u001b[0m \u001b[38;5;28mself\u001b[39m\u001b[38;5;241m.\u001b[39mtypes \u001b[38;5;241m=\u001b[39m Schema(\n\u001b[0;32m     81\u001b[0m     node\u001b[38;5;241m=\u001b[39m\u001b[38;5;28;01mNone\u001b[39;00m,\n\u001b[0;32m     82\u001b[0m     transport\u001b[38;5;241m=\u001b[39m\u001b[38;5;28mself\u001b[39m\u001b[38;5;241m.\u001b[39mtransport,\n\u001b[0;32m     83\u001b[0m     location\u001b[38;5;241m=\u001b[39m\u001b[38;5;28mself\u001b[39m\u001b[38;5;241m.\u001b[39mlocation,\n\u001b[0;32m     84\u001b[0m     settings\u001b[38;5;241m=\u001b[39m\u001b[38;5;28mself\u001b[39m\u001b[38;5;241m.\u001b[39msettings,\n\u001b[0;32m     85\u001b[0m )\n\u001b[1;32m---> 86\u001b[0m \u001b[38;5;28;43mself\u001b[39;49m\u001b[38;5;241;43m.\u001b[39;49m\u001b[43mload\u001b[49m\u001b[43m(\u001b[49m\u001b[43mlocation\u001b[49m\u001b[43m)\u001b[49m\n",
      "File \u001b[1;32m~\\AppData\\Local\\Programs\\Python\\Python313\\Lib\\site-packages\\zeep\\wsdl\\wsdl.py:89\u001b[0m, in \u001b[0;36mDocument.load\u001b[1;34m(self, location)\u001b[0m\n\u001b[0;32m     88\u001b[0m \u001b[38;5;28;01mdef\u001b[39;00m\u001b[38;5;250m \u001b[39m\u001b[38;5;21mload\u001b[39m(\u001b[38;5;28mself\u001b[39m, location):\n\u001b[1;32m---> 89\u001b[0m     document \u001b[38;5;241m=\u001b[39m \u001b[38;5;28;43mself\u001b[39;49m\u001b[38;5;241;43m.\u001b[39;49m\u001b[43m_get_xml_document\u001b[49m\u001b[43m(\u001b[49m\u001b[43mlocation\u001b[49m\u001b[43m)\u001b[49m\n\u001b[0;32m     91\u001b[0m     root_definitions \u001b[38;5;241m=\u001b[39m Definition(\u001b[38;5;28mself\u001b[39m, document, \u001b[38;5;28mself\u001b[39m\u001b[38;5;241m.\u001b[39mlocation)\n\u001b[0;32m     92\u001b[0m     root_definitions\u001b[38;5;241m.\u001b[39mresolve_imports()\n",
      "File \u001b[1;32m~\\AppData\\Local\\Programs\\Python\\Python313\\Lib\\site-packages\\zeep\\wsdl\\wsdl.py:149\u001b[0m, in \u001b[0;36mDocument._get_xml_document\u001b[1;34m(self, location)\u001b[0m\n\u001b[0;32m    141\u001b[0m \u001b[38;5;28;01mdef\u001b[39;00m\u001b[38;5;250m \u001b[39m\u001b[38;5;21m_get_xml_document\u001b[39m(\u001b[38;5;28mself\u001b[39m, location: typing\u001b[38;5;241m.\u001b[39mIO) \u001b[38;5;241m-\u001b[39m\u001b[38;5;241m>\u001b[39m etree\u001b[38;5;241m.\u001b[39m_Element:\n\u001b[0;32m    142\u001b[0m \u001b[38;5;250m    \u001b[39m\u001b[38;5;124;03m\"\"\"Load the XML content from the given location and return an\u001b[39;00m\n\u001b[0;32m    143\u001b[0m \u001b[38;5;124;03m    lxml.Element object.\u001b[39;00m\n\u001b[0;32m    144\u001b[0m \n\u001b[1;32m   (...)\u001b[0m\n\u001b[0;32m    147\u001b[0m \n\u001b[0;32m    148\u001b[0m \u001b[38;5;124;03m    \"\"\"\u001b[39;00m\n\u001b[1;32m--> 149\u001b[0m     \u001b[38;5;28;01mreturn\u001b[39;00m \u001b[43mload_external\u001b[49m\u001b[43m(\u001b[49m\n\u001b[0;32m    150\u001b[0m \u001b[43m        \u001b[49m\u001b[43mlocation\u001b[49m\u001b[43m,\u001b[49m\u001b[43m \u001b[49m\u001b[38;5;28;43mself\u001b[39;49m\u001b[38;5;241;43m.\u001b[39;49m\u001b[43mtransport\u001b[49m\u001b[43m,\u001b[49m\u001b[43m \u001b[49m\u001b[38;5;28;43mself\u001b[39;49m\u001b[38;5;241;43m.\u001b[39;49m\u001b[43mlocation\u001b[49m\u001b[43m,\u001b[49m\u001b[43m \u001b[49m\u001b[43msettings\u001b[49m\u001b[38;5;241;43m=\u001b[39;49m\u001b[38;5;28;43mself\u001b[39;49m\u001b[38;5;241;43m.\u001b[39;49m\u001b[43msettings\u001b[49m\n\u001b[0;32m    151\u001b[0m \u001b[43m    \u001b[49m\u001b[43m)\u001b[49m\n",
      "File \u001b[1;32m~\\AppData\\Local\\Programs\\Python\\Python313\\Lib\\site-packages\\zeep\\loader.py:89\u001b[0m, in \u001b[0;36mload_external\u001b[1;34m(url, transport, base_url, settings)\u001b[0m\n\u001b[0;32m     87\u001b[0m     \u001b[38;5;28;01mif\u001b[39;00m base_url:\n\u001b[0;32m     88\u001b[0m         url \u001b[38;5;241m=\u001b[39m absolute_location(url, base_url)\n\u001b[1;32m---> 89\u001b[0m     content \u001b[38;5;241m=\u001b[39m \u001b[43mtransport\u001b[49m\u001b[38;5;241;43m.\u001b[39;49m\u001b[43mload\u001b[49m\u001b[43m(\u001b[49m\u001b[43murl\u001b[49m\u001b[43m)\u001b[49m\n\u001b[0;32m     90\u001b[0m \u001b[38;5;28;01mreturn\u001b[39;00m parse_xml(content, transport, base_url, settings\u001b[38;5;241m=\u001b[39msettings)\n",
      "File \u001b[1;32m~\\AppData\\Local\\Programs\\Python\\Python313\\Lib\\site-packages\\zeep\\transports.py:122\u001b[0m, in \u001b[0;36mTransport.load\u001b[1;34m(self, url)\u001b[0m\n\u001b[0;32m    119\u001b[0m     \u001b[38;5;28;01mif\u001b[39;00m response:\n\u001b[0;32m    120\u001b[0m         \u001b[38;5;28;01mreturn\u001b[39;00m \u001b[38;5;28mbytes\u001b[39m(response)\n\u001b[1;32m--> 122\u001b[0m content \u001b[38;5;241m=\u001b[39m \u001b[38;5;28;43mself\u001b[39;49m\u001b[38;5;241;43m.\u001b[39;49m\u001b[43m_load_remote_data\u001b[49m\u001b[43m(\u001b[49m\u001b[43murl\u001b[49m\u001b[43m)\u001b[49m\n\u001b[0;32m    124\u001b[0m \u001b[38;5;28;01mif\u001b[39;00m \u001b[38;5;28mself\u001b[39m\u001b[38;5;241m.\u001b[39mcache:\n\u001b[0;32m    125\u001b[0m     \u001b[38;5;28mself\u001b[39m\u001b[38;5;241m.\u001b[39mcache\u001b[38;5;241m.\u001b[39madd(url, content)\n",
      "File \u001b[1;32m~\\AppData\\Local\\Programs\\Python\\Python313\\Lib\\site-packages\\zeep\\transports.py:136\u001b[0m, in \u001b[0;36mTransport._load_remote_data\u001b[1;34m(self, url)\u001b[0m\n\u001b[0;32m    134\u001b[0m response \u001b[38;5;241m=\u001b[39m \u001b[38;5;28mself\u001b[39m\u001b[38;5;241m.\u001b[39msession\u001b[38;5;241m.\u001b[39mget(url, timeout\u001b[38;5;241m=\u001b[39m\u001b[38;5;28mself\u001b[39m\u001b[38;5;241m.\u001b[39mload_timeout)\n\u001b[0;32m    135\u001b[0m \u001b[38;5;28;01mwith\u001b[39;00m closing(response):\n\u001b[1;32m--> 136\u001b[0m     \u001b[43mresponse\u001b[49m\u001b[38;5;241;43m.\u001b[39;49m\u001b[43mraise_for_status\u001b[49m\u001b[43m(\u001b[49m\u001b[43m)\u001b[49m\n\u001b[0;32m    137\u001b[0m     \u001b[38;5;28;01mreturn\u001b[39;00m response\u001b[38;5;241m.\u001b[39mcontent\n",
      "File \u001b[1;32m~\\AppData\\Local\\Programs\\Python\\Python313\\Lib\\site-packages\\requests\\models.py:1024\u001b[0m, in \u001b[0;36mResponse.raise_for_status\u001b[1;34m(self)\u001b[0m\n\u001b[0;32m   1019\u001b[0m     http_error_msg \u001b[38;5;241m=\u001b[39m (\n\u001b[0;32m   1020\u001b[0m         \u001b[38;5;124mf\u001b[39m\u001b[38;5;124m\"\u001b[39m\u001b[38;5;132;01m{\u001b[39;00m\u001b[38;5;28mself\u001b[39m\u001b[38;5;241m.\u001b[39mstatus_code\u001b[38;5;132;01m}\u001b[39;00m\u001b[38;5;124m Server Error: \u001b[39m\u001b[38;5;132;01m{\u001b[39;00mreason\u001b[38;5;132;01m}\u001b[39;00m\u001b[38;5;124m for url: \u001b[39m\u001b[38;5;132;01m{\u001b[39;00m\u001b[38;5;28mself\u001b[39m\u001b[38;5;241m.\u001b[39murl\u001b[38;5;132;01m}\u001b[39;00m\u001b[38;5;124m\"\u001b[39m\n\u001b[0;32m   1021\u001b[0m     )\n\u001b[0;32m   1023\u001b[0m \u001b[38;5;28;01mif\u001b[39;00m http_error_msg:\n\u001b[1;32m-> 1024\u001b[0m     \u001b[38;5;28;01mraise\u001b[39;00m HTTPError(http_error_msg, response\u001b[38;5;241m=\u001b[39m\u001b[38;5;28mself\u001b[39m)\n",
      "\u001b[1;31mHTTPError\u001b[0m: 404 Client Error: Not Found for url: https://www.example.com/soap?wsdl"
     ]
    }
   ],
   "source": [
    "import zeep\n",
    "\n",
    "# WSDL URL of the SOAP service\n",
    "wsdl_url = 'https://www.example.com/soap?wsdl'\n",
    "\n",
    "# Create a client using the WSDL URL\n",
    "client = zeep.Client(wsdl=wsdl_url)\n",
    "\n",
    "# Call a method from the SOAP service\n",
    "response = client.service.SomeMethod(param1='value', param2='value')\n",
    "\n",
    "# Print the response\n",
    "print(response)\n",
    "\n"
   ]
  },
  {
   "cell_type": "code",
   "execution_count": 1,
   "id": "bc1ee35f-900c-4198-9d49-d9c69a066625",
   "metadata": {},
   "outputs": [],
   "source": [
    "import zeep"
   ]
  },
  {
   "cell_type": "code",
   "execution_count": 2,
   "id": "3362fc78-0142-49a5-8c42-ddc4f726bd33",
   "metadata": {},
   "outputs": [],
   "source": [
    "wsdl_url = 'http://www.dneonline.com/calculator.asmx?WSDL'"
   ]
  },
  {
   "cell_type": "code",
   "execution_count": 3,
   "id": "7f41fbc2-1876-457c-9ad6-24f18c84f3d1",
   "metadata": {},
   "outputs": [],
   "source": [
    "client = zeep.Client(wsdl=wsdl_url)"
   ]
  },
  {
   "cell_type": "code",
   "execution_count": 4,
   "id": "92663c7c-0eff-4097-8248-9f1863cb2d51",
   "metadata": {},
   "outputs": [
    {
     "ename": "AttributeError",
     "evalue": "Service has no operation 'SomeMethod'",
     "output_type": "error",
     "traceback": [
      "\u001b[1;31m-------------------------------------------------------\u001b[0m",
      "\u001b[1;31mKeyError\u001b[0m              Traceback (most recent call last)",
      "File \u001b[1;32m~\\AppData\\Local\\Programs\\Python\\Python313\\Lib\\site-packages\\zeep\\proxy.py:97\u001b[0m, in \u001b[0;36mServiceProxy.__getitem__\u001b[1;34m(self, key)\u001b[0m\n\u001b[0;32m     96\u001b[0m \u001b[38;5;28;01mtry\u001b[39;00m:\n\u001b[1;32m---> 97\u001b[0m     \u001b[38;5;28;01mreturn\u001b[39;00m \u001b[38;5;28;43mself\u001b[39;49m\u001b[38;5;241;43m.\u001b[39;49m\u001b[43m_operations\u001b[49m\u001b[43m[\u001b[49m\u001b[43mkey\u001b[49m\u001b[43m]\u001b[49m\n\u001b[0;32m     98\u001b[0m \u001b[38;5;28;01mexcept\u001b[39;00m \u001b[38;5;167;01mKeyError\u001b[39;00m:\n",
      "\u001b[1;31mKeyError\u001b[0m: 'SomeMethod'",
      "\nDuring handling of the above exception, another exception occurred:\n",
      "\u001b[1;31mAttributeError\u001b[0m        Traceback (most recent call last)",
      "Cell \u001b[1;32mIn[4], line 1\u001b[0m\n\u001b[1;32m----> 1\u001b[0m response \u001b[38;5;241m=\u001b[39m \u001b[43mclient\u001b[49m\u001b[38;5;241;43m.\u001b[39;49m\u001b[43mservice\u001b[49m\u001b[38;5;241;43m.\u001b[39;49m\u001b[43mSomeMethod\u001b[49m(param1\u001b[38;5;241m=\u001b[39m\u001b[38;5;124m'\u001b[39m\u001b[38;5;124mvalue\u001b[39m\u001b[38;5;124m'\u001b[39m,param2\u001b[38;5;241m=\u001b[39m\u001b[38;5;124m'\u001b[39m\u001b[38;5;124mvalue\u001b[39m\u001b[38;5;124m'\u001b[39m)\n",
      "File \u001b[1;32m~\\AppData\\Local\\Programs\\Python\\Python313\\Lib\\site-packages\\zeep\\proxy.py:88\u001b[0m, in \u001b[0;36mServiceProxy.__getattr__\u001b[1;34m(self, key)\u001b[0m\n\u001b[0;32m     82\u001b[0m \u001b[38;5;28;01mdef\u001b[39;00m\u001b[38;5;250m \u001b[39m\u001b[38;5;21m__getattr__\u001b[39m(\u001b[38;5;28mself\u001b[39m, key):\n\u001b[0;32m     83\u001b[0m \u001b[38;5;250m    \u001b[39m\u001b[38;5;124;03m\"\"\"Return the OperationProxy for the given key.\u001b[39;00m\n\u001b[0;32m     84\u001b[0m \n\u001b[0;32m     85\u001b[0m \u001b[38;5;124;03m    :rtype: OperationProxy()\u001b[39;00m\n\u001b[0;32m     86\u001b[0m \n\u001b[0;32m     87\u001b[0m \u001b[38;5;124;03m    \"\"\"\u001b[39;00m\n\u001b[1;32m---> 88\u001b[0m     \u001b[38;5;28;01mreturn\u001b[39;00m \u001b[38;5;28;43mself\u001b[39;49m\u001b[43m[\u001b[49m\u001b[43mkey\u001b[49m\u001b[43m]\u001b[49m\n",
      "File \u001b[1;32m~\\AppData\\Local\\Programs\\Python\\Python313\\Lib\\site-packages\\zeep\\proxy.py:99\u001b[0m, in \u001b[0;36mServiceProxy.__getitem__\u001b[1;34m(self, key)\u001b[0m\n\u001b[0;32m     97\u001b[0m     \u001b[38;5;28;01mreturn\u001b[39;00m \u001b[38;5;28mself\u001b[39m\u001b[38;5;241m.\u001b[39m_operations[key]\n\u001b[0;32m     98\u001b[0m \u001b[38;5;28;01mexcept\u001b[39;00m \u001b[38;5;167;01mKeyError\u001b[39;00m:\n\u001b[1;32m---> 99\u001b[0m     \u001b[38;5;28;01mraise\u001b[39;00m \u001b[38;5;167;01mAttributeError\u001b[39;00m(\u001b[38;5;124m\"\u001b[39m\u001b[38;5;124mService has no operation \u001b[39m\u001b[38;5;132;01m%r\u001b[39;00m\u001b[38;5;124m\"\u001b[39m \u001b[38;5;241m%\u001b[39m key)\n",
      "\u001b[1;31mAttributeError\u001b[0m: Service has no operation 'SomeMethod'"
     ]
    }
   ],
   "source": [
    "response = client.service.SomeMethod(param1='value',param2='value')"
   ]
  },
  {
   "cell_type": "code",
   "execution_count": null,
   "id": "ee4dbdb7-e8e3-4cde-adbd-d11e16929d99",
   "metadata": {},
   "outputs": [],
   "source": []
  }
 ],
 "metadata": {
  "kernelspec": {
   "display_name": "Python 3 (ipykernel)",
   "language": "python",
   "name": "python3"
  },
  "language_info": {
   "codemirror_mode": {
    "name": "ipython",
    "version": 3
   },
   "file_extension": ".py",
   "mimetype": "text/x-python",
   "name": "python",
   "nbconvert_exporter": "python",
   "pygments_lexer": "ipython3",
   "version": "3.13.1"
  }
 },
 "nbformat": 4,
 "nbformat_minor": 5
}
